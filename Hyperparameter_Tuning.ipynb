{
  "nbformat": 4,
  "nbformat_minor": 0,
  "metadata": {
    "colab": {
      "provenance": [],
      "collapsed_sections": [
        "qOI6WZOeLPMB",
        "skRlSj2cLEXW"
      ]
    },
    "kernelspec": {
      "name": "python3",
      "display_name": "Python 3"
    },
    "language_info": {
      "name": "python"
    }
  },
  "cells": [
    {
      "cell_type": "code",
      "execution_count": 29,
      "metadata": {
        "id": "eyJR7VTA86kK"
      },
      "outputs": [],
      "source": [
        "import numpy as np\n",
        "import pandas as pd\n",
        "\n",
        "import matplotlib.pyplot as plt\n",
        "import seaborn as sns"
      ]
    },
    {
      "cell_type": "code",
      "source": [
        "df=pd.read_csv(\"diabetes.csv\")"
      ],
      "metadata": {
        "id": "WbAHGZyY-vRo"
      },
      "execution_count": 30,
      "outputs": []
    },
    {
      "cell_type": "code",
      "source": [
        "df.head()"
      ],
      "metadata": {
        "colab": {
          "base_uri": "https://localhost:8080/",
          "height": 206
        },
        "id": "I3iwoO0j-0xI",
        "outputId": "1038c48e-eba8-4cea-ef37-f71afc68cf5b"
      },
      "execution_count": 31,
      "outputs": [
        {
          "output_type": "execute_result",
          "data": {
            "text/plain": [
              "   Pregnancies  Glucose  BloodPressure  SkinThickness  Insulin   BMI  \\\n",
              "0            6      148             72             35        0  33.6   \n",
              "1            1       85             66             29        0  26.6   \n",
              "2            8      183             64              0        0  23.3   \n",
              "3            1       89             66             23       94  28.1   \n",
              "4            0      137             40             35      168  43.1   \n",
              "\n",
              "   DiabetesPedigreeFunction  Age  Outcome  \n",
              "0                     0.627   50        1  \n",
              "1                     0.351   31        0  \n",
              "2                     0.672   32        1  \n",
              "3                     0.167   21        0  \n",
              "4                     2.288   33        1  "
            ],
            "text/html": [
              "\n",
              "  <div id=\"df-cd6aa886-5bd7-4e77-a467-da1beb39e1fe\" class=\"colab-df-container\">\n",
              "    <div>\n",
              "<style scoped>\n",
              "    .dataframe tbody tr th:only-of-type {\n",
              "        vertical-align: middle;\n",
              "    }\n",
              "\n",
              "    .dataframe tbody tr th {\n",
              "        vertical-align: top;\n",
              "    }\n",
              "\n",
              "    .dataframe thead th {\n",
              "        text-align: right;\n",
              "    }\n",
              "</style>\n",
              "<table border=\"1\" class=\"dataframe\">\n",
              "  <thead>\n",
              "    <tr style=\"text-align: right;\">\n",
              "      <th></th>\n",
              "      <th>Pregnancies</th>\n",
              "      <th>Glucose</th>\n",
              "      <th>BloodPressure</th>\n",
              "      <th>SkinThickness</th>\n",
              "      <th>Insulin</th>\n",
              "      <th>BMI</th>\n",
              "      <th>DiabetesPedigreeFunction</th>\n",
              "      <th>Age</th>\n",
              "      <th>Outcome</th>\n",
              "    </tr>\n",
              "  </thead>\n",
              "  <tbody>\n",
              "    <tr>\n",
              "      <th>0</th>\n",
              "      <td>6</td>\n",
              "      <td>148</td>\n",
              "      <td>72</td>\n",
              "      <td>35</td>\n",
              "      <td>0</td>\n",
              "      <td>33.6</td>\n",
              "      <td>0.627</td>\n",
              "      <td>50</td>\n",
              "      <td>1</td>\n",
              "    </tr>\n",
              "    <tr>\n",
              "      <th>1</th>\n",
              "      <td>1</td>\n",
              "      <td>85</td>\n",
              "      <td>66</td>\n",
              "      <td>29</td>\n",
              "      <td>0</td>\n",
              "      <td>26.6</td>\n",
              "      <td>0.351</td>\n",
              "      <td>31</td>\n",
              "      <td>0</td>\n",
              "    </tr>\n",
              "    <tr>\n",
              "      <th>2</th>\n",
              "      <td>8</td>\n",
              "      <td>183</td>\n",
              "      <td>64</td>\n",
              "      <td>0</td>\n",
              "      <td>0</td>\n",
              "      <td>23.3</td>\n",
              "      <td>0.672</td>\n",
              "      <td>32</td>\n",
              "      <td>1</td>\n",
              "    </tr>\n",
              "    <tr>\n",
              "      <th>3</th>\n",
              "      <td>1</td>\n",
              "      <td>89</td>\n",
              "      <td>66</td>\n",
              "      <td>23</td>\n",
              "      <td>94</td>\n",
              "      <td>28.1</td>\n",
              "      <td>0.167</td>\n",
              "      <td>21</td>\n",
              "      <td>0</td>\n",
              "    </tr>\n",
              "    <tr>\n",
              "      <th>4</th>\n",
              "      <td>0</td>\n",
              "      <td>137</td>\n",
              "      <td>40</td>\n",
              "      <td>35</td>\n",
              "      <td>168</td>\n",
              "      <td>43.1</td>\n",
              "      <td>2.288</td>\n",
              "      <td>33</td>\n",
              "      <td>1</td>\n",
              "    </tr>\n",
              "  </tbody>\n",
              "</table>\n",
              "</div>\n",
              "    <div class=\"colab-df-buttons\">\n",
              "\n",
              "  <div class=\"colab-df-container\">\n",
              "    <button class=\"colab-df-convert\" onclick=\"convertToInteractive('df-cd6aa886-5bd7-4e77-a467-da1beb39e1fe')\"\n",
              "            title=\"Convert this dataframe to an interactive table.\"\n",
              "            style=\"display:none;\">\n",
              "\n",
              "  <svg xmlns=\"http://www.w3.org/2000/svg\" height=\"24px\" viewBox=\"0 -960 960 960\">\n",
              "    <path d=\"M120-120v-720h720v720H120Zm60-500h600v-160H180v160Zm220 220h160v-160H400v160Zm0 220h160v-160H400v160ZM180-400h160v-160H180v160Zm440 0h160v-160H620v160ZM180-180h160v-160H180v160Zm440 0h160v-160H620v160Z\"/>\n",
              "  </svg>\n",
              "    </button>\n",
              "\n",
              "  <style>\n",
              "    .colab-df-container {\n",
              "      display:flex;\n",
              "      gap: 12px;\n",
              "    }\n",
              "\n",
              "    .colab-df-convert {\n",
              "      background-color: #E8F0FE;\n",
              "      border: none;\n",
              "      border-radius: 50%;\n",
              "      cursor: pointer;\n",
              "      display: none;\n",
              "      fill: #1967D2;\n",
              "      height: 32px;\n",
              "      padding: 0 0 0 0;\n",
              "      width: 32px;\n",
              "    }\n",
              "\n",
              "    .colab-df-convert:hover {\n",
              "      background-color: #E2EBFA;\n",
              "      box-shadow: 0px 1px 2px rgba(60, 64, 67, 0.3), 0px 1px 3px 1px rgba(60, 64, 67, 0.15);\n",
              "      fill: #174EA6;\n",
              "    }\n",
              "\n",
              "    .colab-df-buttons div {\n",
              "      margin-bottom: 4px;\n",
              "    }\n",
              "\n",
              "    [theme=dark] .colab-df-convert {\n",
              "      background-color: #3B4455;\n",
              "      fill: #D2E3FC;\n",
              "    }\n",
              "\n",
              "    [theme=dark] .colab-df-convert:hover {\n",
              "      background-color: #434B5C;\n",
              "      box-shadow: 0px 1px 3px 1px rgba(0, 0, 0, 0.15);\n",
              "      filter: drop-shadow(0px 1px 2px rgba(0, 0, 0, 0.3));\n",
              "      fill: #FFFFFF;\n",
              "    }\n",
              "  </style>\n",
              "\n",
              "    <script>\n",
              "      const buttonEl =\n",
              "        document.querySelector('#df-cd6aa886-5bd7-4e77-a467-da1beb39e1fe button.colab-df-convert');\n",
              "      buttonEl.style.display =\n",
              "        google.colab.kernel.accessAllowed ? 'block' : 'none';\n",
              "\n",
              "      async function convertToInteractive(key) {\n",
              "        const element = document.querySelector('#df-cd6aa886-5bd7-4e77-a467-da1beb39e1fe');\n",
              "        const dataTable =\n",
              "          await google.colab.kernel.invokeFunction('convertToInteractive',\n",
              "                                                    [key], {});\n",
              "        if (!dataTable) return;\n",
              "\n",
              "        const docLinkHtml = 'Like what you see? Visit the ' +\n",
              "          '<a target=\"_blank\" href=https://colab.research.google.com/notebooks/data_table.ipynb>data table notebook</a>'\n",
              "          + ' to learn more about interactive tables.';\n",
              "        element.innerHTML = '';\n",
              "        dataTable['output_type'] = 'display_data';\n",
              "        await google.colab.output.renderOutput(dataTable, element);\n",
              "        const docLink = document.createElement('div');\n",
              "        docLink.innerHTML = docLinkHtml;\n",
              "        element.appendChild(docLink);\n",
              "      }\n",
              "    </script>\n",
              "  </div>\n",
              "\n",
              "\n",
              "<div id=\"df-6508309e-134a-4ea3-af1a-b682edafc3b3\">\n",
              "  <button class=\"colab-df-quickchart\" onclick=\"quickchart('df-6508309e-134a-4ea3-af1a-b682edafc3b3')\"\n",
              "            title=\"Suggest charts\"\n",
              "            style=\"display:none;\">\n",
              "\n",
              "<svg xmlns=\"http://www.w3.org/2000/svg\" height=\"24px\"viewBox=\"0 0 24 24\"\n",
              "     width=\"24px\">\n",
              "    <g>\n",
              "        <path d=\"M19 3H5c-1.1 0-2 .9-2 2v14c0 1.1.9 2 2 2h14c1.1 0 2-.9 2-2V5c0-1.1-.9-2-2-2zM9 17H7v-7h2v7zm4 0h-2V7h2v10zm4 0h-2v-4h2v4z\"/>\n",
              "    </g>\n",
              "</svg>\n",
              "  </button>\n",
              "\n",
              "<style>\n",
              "  .colab-df-quickchart {\n",
              "      --bg-color: #E8F0FE;\n",
              "      --fill-color: #1967D2;\n",
              "      --hover-bg-color: #E2EBFA;\n",
              "      --hover-fill-color: #174EA6;\n",
              "      --disabled-fill-color: #AAA;\n",
              "      --disabled-bg-color: #DDD;\n",
              "  }\n",
              "\n",
              "  [theme=dark] .colab-df-quickchart {\n",
              "      --bg-color: #3B4455;\n",
              "      --fill-color: #D2E3FC;\n",
              "      --hover-bg-color: #434B5C;\n",
              "      --hover-fill-color: #FFFFFF;\n",
              "      --disabled-bg-color: #3B4455;\n",
              "      --disabled-fill-color: #666;\n",
              "  }\n",
              "\n",
              "  .colab-df-quickchart {\n",
              "    background-color: var(--bg-color);\n",
              "    border: none;\n",
              "    border-radius: 50%;\n",
              "    cursor: pointer;\n",
              "    display: none;\n",
              "    fill: var(--fill-color);\n",
              "    height: 32px;\n",
              "    padding: 0;\n",
              "    width: 32px;\n",
              "  }\n",
              "\n",
              "  .colab-df-quickchart:hover {\n",
              "    background-color: var(--hover-bg-color);\n",
              "    box-shadow: 0 1px 2px rgba(60, 64, 67, 0.3), 0 1px 3px 1px rgba(60, 64, 67, 0.15);\n",
              "    fill: var(--button-hover-fill-color);\n",
              "  }\n",
              "\n",
              "  .colab-df-quickchart-complete:disabled,\n",
              "  .colab-df-quickchart-complete:disabled:hover {\n",
              "    background-color: var(--disabled-bg-color);\n",
              "    fill: var(--disabled-fill-color);\n",
              "    box-shadow: none;\n",
              "  }\n",
              "\n",
              "  .colab-df-spinner {\n",
              "    border: 2px solid var(--fill-color);\n",
              "    border-color: transparent;\n",
              "    border-bottom-color: var(--fill-color);\n",
              "    animation:\n",
              "      spin 1s steps(1) infinite;\n",
              "  }\n",
              "\n",
              "  @keyframes spin {\n",
              "    0% {\n",
              "      border-color: transparent;\n",
              "      border-bottom-color: var(--fill-color);\n",
              "      border-left-color: var(--fill-color);\n",
              "    }\n",
              "    20% {\n",
              "      border-color: transparent;\n",
              "      border-left-color: var(--fill-color);\n",
              "      border-top-color: var(--fill-color);\n",
              "    }\n",
              "    30% {\n",
              "      border-color: transparent;\n",
              "      border-left-color: var(--fill-color);\n",
              "      border-top-color: var(--fill-color);\n",
              "      border-right-color: var(--fill-color);\n",
              "    }\n",
              "    40% {\n",
              "      border-color: transparent;\n",
              "      border-right-color: var(--fill-color);\n",
              "      border-top-color: var(--fill-color);\n",
              "    }\n",
              "    60% {\n",
              "      border-color: transparent;\n",
              "      border-right-color: var(--fill-color);\n",
              "    }\n",
              "    80% {\n",
              "      border-color: transparent;\n",
              "      border-right-color: var(--fill-color);\n",
              "      border-bottom-color: var(--fill-color);\n",
              "    }\n",
              "    90% {\n",
              "      border-color: transparent;\n",
              "      border-bottom-color: var(--fill-color);\n",
              "    }\n",
              "  }\n",
              "</style>\n",
              "\n",
              "  <script>\n",
              "    async function quickchart(key) {\n",
              "      const quickchartButtonEl =\n",
              "        document.querySelector('#' + key + ' button');\n",
              "      quickchartButtonEl.disabled = true;  // To prevent multiple clicks.\n",
              "      quickchartButtonEl.classList.add('colab-df-spinner');\n",
              "      try {\n",
              "        const charts = await google.colab.kernel.invokeFunction(\n",
              "            'suggestCharts', [key], {});\n",
              "      } catch (error) {\n",
              "        console.error('Error during call to suggestCharts:', error);\n",
              "      }\n",
              "      quickchartButtonEl.classList.remove('colab-df-spinner');\n",
              "      quickchartButtonEl.classList.add('colab-df-quickchart-complete');\n",
              "    }\n",
              "    (() => {\n",
              "      let quickchartButtonEl =\n",
              "        document.querySelector('#df-6508309e-134a-4ea3-af1a-b682edafc3b3 button');\n",
              "      quickchartButtonEl.style.display =\n",
              "        google.colab.kernel.accessAllowed ? 'block' : 'none';\n",
              "    })();\n",
              "  </script>\n",
              "</div>\n",
              "\n",
              "    </div>\n",
              "  </div>\n"
            ],
            "application/vnd.google.colaboratory.intrinsic+json": {
              "type": "dataframe",
              "variable_name": "df",
              "summary": "{\n  \"name\": \"df\",\n  \"rows\": 768,\n  \"fields\": [\n    {\n      \"column\": \"Pregnancies\",\n      \"properties\": {\n        \"dtype\": \"number\",\n        \"std\": 3,\n        \"min\": 0,\n        \"max\": 17,\n        \"num_unique_values\": 17,\n        \"samples\": [\n          6,\n          1,\n          3\n        ],\n        \"semantic_type\": \"\",\n        \"description\": \"\"\n      }\n    },\n    {\n      \"column\": \"Glucose\",\n      \"properties\": {\n        \"dtype\": \"number\",\n        \"std\": 31,\n        \"min\": 0,\n        \"max\": 199,\n        \"num_unique_values\": 136,\n        \"samples\": [\n          151,\n          101,\n          112\n        ],\n        \"semantic_type\": \"\",\n        \"description\": \"\"\n      }\n    },\n    {\n      \"column\": \"BloodPressure\",\n      \"properties\": {\n        \"dtype\": \"number\",\n        \"std\": 19,\n        \"min\": 0,\n        \"max\": 122,\n        \"num_unique_values\": 47,\n        \"samples\": [\n          86,\n          46,\n          85\n        ],\n        \"semantic_type\": \"\",\n        \"description\": \"\"\n      }\n    },\n    {\n      \"column\": \"SkinThickness\",\n      \"properties\": {\n        \"dtype\": \"number\",\n        \"std\": 15,\n        \"min\": 0,\n        \"max\": 99,\n        \"num_unique_values\": 51,\n        \"samples\": [\n          7,\n          12,\n          48\n        ],\n        \"semantic_type\": \"\",\n        \"description\": \"\"\n      }\n    },\n    {\n      \"column\": \"Insulin\",\n      \"properties\": {\n        \"dtype\": \"number\",\n        \"std\": 115,\n        \"min\": 0,\n        \"max\": 846,\n        \"num_unique_values\": 186,\n        \"samples\": [\n          52,\n          41,\n          183\n        ],\n        \"semantic_type\": \"\",\n        \"description\": \"\"\n      }\n    },\n    {\n      \"column\": \"BMI\",\n      \"properties\": {\n        \"dtype\": \"number\",\n        \"std\": 7.884160320375446,\n        \"min\": 0.0,\n        \"max\": 67.1,\n        \"num_unique_values\": 248,\n        \"samples\": [\n          19.9,\n          31.0,\n          38.1\n        ],\n        \"semantic_type\": \"\",\n        \"description\": \"\"\n      }\n    },\n    {\n      \"column\": \"DiabetesPedigreeFunction\",\n      \"properties\": {\n        \"dtype\": \"number\",\n        \"std\": 0.3313285950127749,\n        \"min\": 0.078,\n        \"max\": 2.42,\n        \"num_unique_values\": 517,\n        \"samples\": [\n          1.731,\n          0.426,\n          0.138\n        ],\n        \"semantic_type\": \"\",\n        \"description\": \"\"\n      }\n    },\n    {\n      \"column\": \"Age\",\n      \"properties\": {\n        \"dtype\": \"number\",\n        \"std\": 11,\n        \"min\": 21,\n        \"max\": 81,\n        \"num_unique_values\": 52,\n        \"samples\": [\n          60,\n          47,\n          72\n        ],\n        \"semantic_type\": \"\",\n        \"description\": \"\"\n      }\n    },\n    {\n      \"column\": \"Outcome\",\n      \"properties\": {\n        \"dtype\": \"number\",\n        \"std\": 0,\n        \"min\": 0,\n        \"max\": 1,\n        \"num_unique_values\": 2,\n        \"samples\": [\n          0,\n          1\n        ],\n        \"semantic_type\": \"\",\n        \"description\": \"\"\n      }\n    }\n  ]\n}"
            }
          },
          "metadata": {},
          "execution_count": 31
        }
      ]
    },
    {
      "cell_type": "code",
      "source": [],
      "metadata": {
        "id": "_blDfipX-1oX"
      },
      "execution_count": 31,
      "outputs": []
    },
    {
      "cell_type": "code",
      "source": [
        "df.corr()['Outcome']"
      ],
      "metadata": {
        "colab": {
          "base_uri": "https://localhost:8080/"
        },
        "id": "AIbvmCjo-3lo",
        "outputId": "4c793b0d-1a56-4464-c997-65345f5cee5d"
      },
      "execution_count": 32,
      "outputs": [
        {
          "output_type": "execute_result",
          "data": {
            "text/plain": [
              "Pregnancies                 0.221898\n",
              "Glucose                     0.466581\n",
              "BloodPressure               0.065068\n",
              "SkinThickness               0.074752\n",
              "Insulin                     0.130548\n",
              "BMI                         0.292695\n",
              "DiabetesPedigreeFunction    0.173844\n",
              "Age                         0.238356\n",
              "Outcome                     1.000000\n",
              "Name: Outcome, dtype: float64"
            ]
          },
          "metadata": {},
          "execution_count": 32
        }
      ]
    },
    {
      "cell_type": "code",
      "source": [
        "\n",
        "\n",
        "\n",
        "correlation_matrix = df.drop(columns=['Outcome']).corrwith(df['Outcome'])\n",
        "\n",
        "# Plot correlation coefficients\n",
        "plt.figure(figsize=(10, 6))\n",
        "sns.barplot(x=correlation_matrix.index, y=correlation_matrix.values)\n",
        "plt.xticks(rotation=45, ha='right')\n",
        "plt.title('Correlation with Outcome')\n",
        "plt.xlabel('Column')\n",
        "plt.ylabel('Correlation Coefficient')\n",
        "plt.show()\n"
      ],
      "metadata": {
        "colab": {
          "base_uri": "https://localhost:8080/",
          "height": 688
        },
        "id": "_nJHxhku_av6",
        "outputId": "56f74346-f4e5-45ac-dfdf-41fc5fad0a63"
      },
      "execution_count": 33,
      "outputs": [
        {
          "output_type": "display_data",
          "data": {
            "text/plain": [
              "<Figure size 1000x600 with 1 Axes>"
            ],
            "image/png": "[encoded data removed]"
          },
          "metadata": {}
        }
      ]
    },
    {
      "cell_type": "code",
      "source": [
        "X=df.iloc[:,:-1].values\n",
        "y=df.iloc[:,-1].values"
      ],
      "metadata": {
        "id": "rOJrsqOI_wdm"
      },
      "execution_count": 34,
      "outputs": []
    },
    {
      "cell_type": "code",
      "source": [
        "from sklearn.preprocessing import StandardScaler\n",
        "scaler=StandardScaler()\n",
        "X=scaler.fit_transform(X)"
      ],
      "metadata": {
        "id": "7eviW5ORARAi"
      },
      "execution_count": 35,
      "outputs": []
    },
    {
      "cell_type": "code",
      "source": [
        "from sklearn.model_selection import train_test_split\n",
        "X_train,X_test,y_train,y_test=train_test_split(X,y,test_size=0.2,random_state=1)"
      ],
      "metadata": {
        "id": "BzYxeNoDAoWH"
      },
      "execution_count": 36,
      "outputs": []
    },
    {
      "cell_type": "code",
      "source": [
        "import tensorflow\n",
        "from tensorflow import keras\n",
        "from keras import Sequential\n",
        "from keras.layers import Dense\n"
      ],
      "metadata": {
        "id": "rRL7KY2JBAg7"
      },
      "execution_count": 39,
      "outputs": []
    },
    {
      "cell_type": "code",
      "source": [
        "model=Sequential()\n",
        "model.add(Dense(32,activation='relu',input_dim=8))\n",
        "model.add(Dense(1,activation='sigmoid'))\n",
        "\n",
        "model.compile(optimizer='Adam',loss='binary_crossentropy',metrics=['accuracy'])\n",
        "\n"
      ],
      "metadata": {
        "id": "MLhwpLOxCZFB"
      },
      "execution_count": 42,
      "outputs": []
    },
    {
      "cell_type": "code",
      "source": [
        "history=model.fit(X_train,y_train,epochs=100,batch_size=32,validation_data=(X_test,y_test))"
      ],
      "metadata": {
        "colab": {
          "base_uri": "https://localhost:8080/"
        },
        "id": "ZKAwu4V0C8fU",
        "outputId": "564ec150-15d7-4188-8ef3-6a1fdef6605e"
      },
      "execution_count": 47,
      "outputs": [
        {
          "output_type": "stream",
          "name": "stdout",
          "text": [
            "Epoch 1/100\n",
            "20/20 [==============================] - 0s 6ms/step - loss: 0.4640 - accuracy: 0.7883 - val_loss: 0.4653 - val_accuracy: 0.7857\n",
            "Epoch 2/100\n",
            "20/20 [==============================] - 0s 4ms/step - loss: 0.4624 - accuracy: 0.7850 - val_loss: 0.4642 - val_accuracy: 0.7987\n",
            "Epoch 3/100\n",
            "20/20 [==============================] - 0s 5ms/step - loss: 0.4617 - accuracy: 0.7801 - val_loss: 0.4640 - val_accuracy: 0.7922\n",
            "Epoch 4/100\n",
            "20/20 [==============================] - 0s 4ms/step - loss: 0.4600 - accuracy: 0.7834 - val_loss: 0.4635 - val_accuracy: 0.7987\n",
            "Epoch 5/100\n",
            "20/20 [==============================] - 0s 4ms/step - loss: 0.4588 - accuracy: 0.7801 - val_loss: 0.4637 - val_accuracy: 0.7922\n",
            "Epoch 6/100\n",
            "20/20 [==============================] - 0s 4ms/step - loss: 0.4577 - accuracy: 0.7801 - val_loss: 0.4641 - val_accuracy: 0.7922\n",
            "Epoch 7/100\n",
            "20/20 [==============================] - 0s 4ms/step - loss: 0.4571 - accuracy: 0.7801 - val_loss: 0.4625 - val_accuracy: 0.8052\n",
            "Epoch 8/100\n",
            "20/20 [==============================] - 0s 4ms/step - loss: 0.4555 - accuracy: 0.7801 - val_loss: 0.4633 - val_accuracy: 0.7922\n",
            "Epoch 9/100\n",
            "20/20 [==============================] - 0s 4ms/step - loss: 0.4551 - accuracy: 0.7801 - val_loss: 0.4635 - val_accuracy: 0.7922\n",
            "Epoch 10/100\n",
            "20/20 [==============================] - 0s 4ms/step - loss: 0.4542 - accuracy: 0.7818 - val_loss: 0.4622 - val_accuracy: 0.7987\n",
            "Epoch 11/100\n",
            "20/20 [==============================] - 0s 4ms/step - loss: 0.4537 - accuracy: 0.7834 - val_loss: 0.4624 - val_accuracy: 0.8052\n",
            "Epoch 12/100\n",
            "20/20 [==============================] - 0s 4ms/step - loss: 0.4528 - accuracy: 0.7834 - val_loss: 0.4601 - val_accuracy: 0.8117\n",
            "Epoch 13/100\n",
            "20/20 [==============================] - 0s 4ms/step - loss: 0.4520 - accuracy: 0.7834 - val_loss: 0.4592 - val_accuracy: 0.8117\n",
            "Epoch 14/100\n",
            "20/20 [==============================] - 0s 4ms/step - loss: 0.4512 - accuracy: 0.7850 - val_loss: 0.4586 - val_accuracy: 0.7987\n",
            "Epoch 15/100\n",
            "20/20 [==============================] - 0s 6ms/step - loss: 0.4504 - accuracy: 0.7850 - val_loss: 0.4584 - val_accuracy: 0.8052\n",
            "Epoch 16/100\n",
            "20/20 [==============================] - 0s 5ms/step - loss: 0.4502 - accuracy: 0.7850 - val_loss: 0.4601 - val_accuracy: 0.8052\n",
            "Epoch 17/100\n",
            "20/20 [==============================] - 0s 5ms/step - loss: 0.4495 - accuracy: 0.7801 - val_loss: 0.4590 - val_accuracy: 0.8052\n",
            "Epoch 18/100\n",
            "20/20 [==============================] - 0s 4ms/step - loss: 0.4488 - accuracy: 0.7801 - val_loss: 0.4574 - val_accuracy: 0.8052\n",
            "Epoch 19/100\n",
            "20/20 [==============================] - 0s 4ms/step - loss: 0.4485 - accuracy: 0.7801 - val_loss: 0.4588 - val_accuracy: 0.8052\n",
            "Epoch 20/100\n",
            "20/20 [==============================] - 0s 3ms/step - loss: 0.4475 - accuracy: 0.7834 - val_loss: 0.4590 - val_accuracy: 0.8052\n",
            "Epoch 21/100\n",
            "20/20 [==============================] - 0s 4ms/step - loss: 0.4469 - accuracy: 0.7801 - val_loss: 0.4576 - val_accuracy: 0.8052\n",
            "Epoch 22/100\n",
            "20/20 [==============================] - 0s 4ms/step - loss: 0.4462 - accuracy: 0.7850 - val_loss: 0.4586 - val_accuracy: 0.7987\n",
            "Epoch 23/100\n",
            "20/20 [==============================] - 0s 4ms/step - loss: 0.4464 - accuracy: 0.7834 - val_loss: 0.4575 - val_accuracy: 0.7987\n",
            "Epoch 24/100\n",
            "20/20 [==============================] - 0s 4ms/step - loss: 0.4461 - accuracy: 0.7866 - val_loss: 0.4590 - val_accuracy: 0.7987\n",
            "Epoch 25/100\n",
            "20/20 [==============================] - 0s 4ms/step - loss: 0.4454 - accuracy: 0.7866 - val_loss: 0.4577 - val_accuracy: 0.8052\n",
            "Epoch 26/100\n",
            "20/20 [==============================] - 0s 4ms/step - loss: 0.4451 - accuracy: 0.7899 - val_loss: 0.4563 - val_accuracy: 0.8052\n",
            "Epoch 27/100\n",
            "20/20 [==============================] - 0s 4ms/step - loss: 0.4444 - accuracy: 0.7834 - val_loss: 0.4566 - val_accuracy: 0.8052\n",
            "Epoch 28/100\n",
            "20/20 [==============================] - 0s 4ms/step - loss: 0.4433 - accuracy: 0.7834 - val_loss: 0.4559 - val_accuracy: 0.8052\n",
            "Epoch 29/100\n",
            "20/20 [==============================] - 0s 4ms/step - loss: 0.4428 - accuracy: 0.7899 - val_loss: 0.4558 - val_accuracy: 0.8052\n",
            "Epoch 30/100\n",
            "20/20 [==============================] - 0s 4ms/step - loss: 0.4419 - accuracy: 0.7850 - val_loss: 0.4568 - val_accuracy: 0.8052\n",
            "Epoch 31/100\n",
            "20/20 [==============================] - 0s 5ms/step - loss: 0.4412 - accuracy: 0.7834 - val_loss: 0.4564 - val_accuracy: 0.8052\n",
            "Epoch 32/100\n",
            "20/20 [==============================] - 0s 3ms/step - loss: 0.4410 - accuracy: 0.7834 - val_loss: 0.4579 - val_accuracy: 0.8052\n",
            "Epoch 33/100\n",
            "20/20 [==============================] - 0s 3ms/step - loss: 0.4405 - accuracy: 0.7834 - val_loss: 0.4554 - val_accuracy: 0.8052\n",
            "Epoch 34/100\n",
            "20/20 [==============================] - 0s 4ms/step - loss: 0.4399 - accuracy: 0.7850 - val_loss: 0.4556 - val_accuracy: 0.8117\n",
            "Epoch 35/100\n",
            "20/20 [==============================] - 0s 4ms/step - loss: 0.4396 - accuracy: 0.7818 - val_loss: 0.4537 - val_accuracy: 0.8117\n",
            "Epoch 36/100\n",
            "20/20 [==============================] - 0s 4ms/step - loss: 0.4389 - accuracy: 0.7818 - val_loss: 0.4546 - val_accuracy: 0.8117\n",
            "Epoch 37/100\n",
            "20/20 [==============================] - 0s 4ms/step - loss: 0.4388 - accuracy: 0.7850 - val_loss: 0.4566 - val_accuracy: 0.8117\n",
            "Epoch 38/100\n",
            "20/20 [==============================] - 0s 5ms/step - loss: 0.4380 - accuracy: 0.7850 - val_loss: 0.4560 - val_accuracy: 0.8117\n",
            "Epoch 39/100\n",
            "20/20 [==============================] - 0s 4ms/step - loss: 0.4374 - accuracy: 0.7850 - val_loss: 0.4565 - val_accuracy: 0.8117\n",
            "Epoch 40/100\n",
            "20/20 [==============================] - 0s 4ms/step - loss: 0.4370 - accuracy: 0.7850 - val_loss: 0.4574 - val_accuracy: 0.8117\n",
            "Epoch 41/100\n",
            "20/20 [==============================] - 0s 4ms/step - loss: 0.4367 - accuracy: 0.7834 - val_loss: 0.4576 - val_accuracy: 0.8117\n",
            "Epoch 42/100\n",
            "20/20 [==============================] - 0s 5ms/step - loss: 0.4359 - accuracy: 0.7866 - val_loss: 0.4560 - val_accuracy: 0.8117\n",
            "Epoch 43/100\n",
            "20/20 [==============================] - 0s 4ms/step - loss: 0.4366 - accuracy: 0.7818 - val_loss: 0.4571 - val_accuracy: 0.8117\n",
            "Epoch 44/100\n",
            "20/20 [==============================] - 0s 4ms/step - loss: 0.4351 - accuracy: 0.7866 - val_loss: 0.4564 - val_accuracy: 0.8117\n",
            "Epoch 45/100\n",
            "20/20 [==============================] - 0s 4ms/step - loss: 0.4351 - accuracy: 0.7883 - val_loss: 0.4555 - val_accuracy: 0.8182\n",
            "Epoch 46/100\n",
            "20/20 [==============================] - 0s 4ms/step - loss: 0.4349 - accuracy: 0.7850 - val_loss: 0.4568 - val_accuracy: 0.8117\n",
            "Epoch 47/100\n",
            "20/20 [==============================] - 0s 4ms/step - loss: 0.4343 - accuracy: 0.7850 - val_loss: 0.4556 - val_accuracy: 0.8182\n",
            "Epoch 48/100\n",
            "20/20 [==============================] - 0s 4ms/step - loss: 0.4342 - accuracy: 0.7850 - val_loss: 0.4552 - val_accuracy: 0.8182\n",
            "Epoch 49/100\n",
            "20/20 [==============================] - 0s 4ms/step - loss: 0.4335 - accuracy: 0.7850 - val_loss: 0.4562 - val_accuracy: 0.8247\n",
            "Epoch 50/100\n",
            "20/20 [==============================] - 0s 5ms/step - loss: 0.4329 - accuracy: 0.7866 - val_loss: 0.4565 - val_accuracy: 0.8247\n",
            "Epoch 51/100\n",
            "20/20 [==============================] - 0s 4ms/step - loss: 0.4328 - accuracy: 0.7866 - val_loss: 0.4569 - val_accuracy: 0.8182\n",
            "Epoch 52/100\n",
            "20/20 [==============================] - 0s 4ms/step - loss: 0.4325 - accuracy: 0.7883 - val_loss: 0.4579 - val_accuracy: 0.8182\n",
            "Epoch 53/100\n",
            "20/20 [==============================] - 0s 4ms/step - loss: 0.4313 - accuracy: 0.7899 - val_loss: 0.4556 - val_accuracy: 0.8247\n",
            "Epoch 54/100\n",
            "20/20 [==============================] - 0s 4ms/step - loss: 0.4313 - accuracy: 0.7866 - val_loss: 0.4541 - val_accuracy: 0.8182\n",
            "Epoch 55/100\n",
            "20/20 [==============================] - 0s 4ms/step - loss: 0.4308 - accuracy: 0.7899 - val_loss: 0.4544 - val_accuracy: 0.8182\n",
            "Epoch 56/100\n",
            "20/20 [==============================] - 0s 4ms/step - loss: 0.4305 - accuracy: 0.7883 - val_loss: 0.4565 - val_accuracy: 0.8117\n",
            "Epoch 57/100\n",
            "20/20 [==============================] - 0s 4ms/step - loss: 0.4301 - accuracy: 0.7883 - val_loss: 0.4560 - val_accuracy: 0.8117\n",
            "Epoch 58/100\n",
            "20/20 [==============================] - 0s 4ms/step - loss: 0.4302 - accuracy: 0.7899 - val_loss: 0.4578 - val_accuracy: 0.8117\n",
            "Epoch 59/100\n",
            "20/20 [==============================] - 0s 4ms/step - loss: 0.4292 - accuracy: 0.7883 - val_loss: 0.4572 - val_accuracy: 0.8182\n",
            "Epoch 60/100\n",
            "20/20 [==============================] - 0s 4ms/step - loss: 0.4296 - accuracy: 0.7883 - val_loss: 0.4565 - val_accuracy: 0.8182\n",
            "Epoch 61/100\n",
            "20/20 [==============================] - 0s 5ms/step - loss: 0.4292 - accuracy: 0.7932 - val_loss: 0.4587 - val_accuracy: 0.8117\n",
            "Epoch 62/100\n",
            "20/20 [==============================] - 0s 4ms/step - loss: 0.4284 - accuracy: 0.7932 - val_loss: 0.4572 - val_accuracy: 0.8247\n",
            "Epoch 63/100\n",
            "20/20 [==============================] - 0s 4ms/step - loss: 0.4281 - accuracy: 0.7932 - val_loss: 0.4551 - val_accuracy: 0.8182\n",
            "Epoch 64/100\n",
            "20/20 [==============================] - 0s 4ms/step - loss: 0.4275 - accuracy: 0.7915 - val_loss: 0.4560 - val_accuracy: 0.8182\n",
            "Epoch 65/100\n",
            "20/20 [==============================] - 0s 5ms/step - loss: 0.4272 - accuracy: 0.7932 - val_loss: 0.4562 - val_accuracy: 0.8182\n",
            "Epoch 66/100\n",
            "20/20 [==============================] - 0s 4ms/step - loss: 0.4268 - accuracy: 0.7915 - val_loss: 0.4571 - val_accuracy: 0.8182\n",
            "Epoch 67/100\n",
            "20/20 [==============================] - 0s 4ms/step - loss: 0.4266 - accuracy: 0.7915 - val_loss: 0.4571 - val_accuracy: 0.8182\n",
            "Epoch 68/100\n",
            "20/20 [==============================] - 0s 4ms/step - loss: 0.4259 - accuracy: 0.7948 - val_loss: 0.4560 - val_accuracy: 0.8182\n",
            "Epoch 69/100\n",
            "20/20 [==============================] - 0s 4ms/step - loss: 0.4260 - accuracy: 0.7915 - val_loss: 0.4558 - val_accuracy: 0.8182\n",
            "Epoch 70/100\n",
            "20/20 [==============================] - 0s 5ms/step - loss: 0.4256 - accuracy: 0.7964 - val_loss: 0.4551 - val_accuracy: 0.8182\n",
            "Epoch 71/100\n",
            "20/20 [==============================] - 0s 4ms/step - loss: 0.4252 - accuracy: 0.7932 - val_loss: 0.4543 - val_accuracy: 0.8247\n",
            "Epoch 72/100\n",
            "20/20 [==============================] - 0s 5ms/step - loss: 0.4247 - accuracy: 0.7948 - val_loss: 0.4548 - val_accuracy: 0.8312\n",
            "Epoch 73/100\n",
            "20/20 [==============================] - 0s 5ms/step - loss: 0.4246 - accuracy: 0.7948 - val_loss: 0.4551 - val_accuracy: 0.8312\n",
            "Epoch 74/100\n",
            "20/20 [==============================] - 0s 4ms/step - loss: 0.4243 - accuracy: 0.7932 - val_loss: 0.4547 - val_accuracy: 0.8247\n",
            "Epoch 75/100\n",
            "20/20 [==============================] - 0s 4ms/step - loss: 0.4243 - accuracy: 0.7964 - val_loss: 0.4566 - val_accuracy: 0.8377\n",
            "Epoch 76/100\n",
            "20/20 [==============================] - 0s 4ms/step - loss: 0.4234 - accuracy: 0.7932 - val_loss: 0.4538 - val_accuracy: 0.8182\n",
            "Epoch 77/100\n",
            "20/20 [==============================] - 0s 4ms/step - loss: 0.4231 - accuracy: 0.7948 - val_loss: 0.4534 - val_accuracy: 0.8182\n",
            "Epoch 78/100\n",
            "20/20 [==============================] - 0s 4ms/step - loss: 0.4226 - accuracy: 0.7964 - val_loss: 0.4529 - val_accuracy: 0.8247\n",
            "Epoch 79/100\n",
            "20/20 [==============================] - 0s 7ms/step - loss: 0.4223 - accuracy: 0.7964 - val_loss: 0.4525 - val_accuracy: 0.8247\n",
            "Epoch 80/100\n",
            "20/20 [==============================] - 0s 9ms/step - loss: 0.4220 - accuracy: 0.7964 - val_loss: 0.4540 - val_accuracy: 0.8117\n",
            "Epoch 81/100\n",
            "20/20 [==============================] - 0s 7ms/step - loss: 0.4216 - accuracy: 0.8013 - val_loss: 0.4526 - val_accuracy: 0.8117\n",
            "Epoch 82/100\n",
            "20/20 [==============================] - 0s 7ms/step - loss: 0.4215 - accuracy: 0.7964 - val_loss: 0.4548 - val_accuracy: 0.8117\n",
            "Epoch 83/100\n",
            "20/20 [==============================] - 0s 6ms/step - loss: 0.4212 - accuracy: 0.7980 - val_loss: 0.4545 - val_accuracy: 0.8247\n",
            "Epoch 84/100\n",
            "20/20 [==============================] - 0s 5ms/step - loss: 0.4209 - accuracy: 0.7997 - val_loss: 0.4554 - val_accuracy: 0.8247\n",
            "Epoch 85/100\n",
            "20/20 [==============================] - 0s 5ms/step - loss: 0.4203 - accuracy: 0.7980 - val_loss: 0.4546 - val_accuracy: 0.8247\n",
            "Epoch 86/100\n",
            "20/20 [==============================] - 0s 6ms/step - loss: 0.4208 - accuracy: 0.7997 - val_loss: 0.4555 - val_accuracy: 0.8182\n",
            "Epoch 87/100\n",
            "20/20 [==============================] - 0s 6ms/step - loss: 0.4195 - accuracy: 0.8013 - val_loss: 0.4535 - val_accuracy: 0.8182\n",
            "Epoch 88/100\n",
            "20/20 [==============================] - 0s 6ms/step - loss: 0.4195 - accuracy: 0.7964 - val_loss: 0.4528 - val_accuracy: 0.8182\n",
            "Epoch 89/100\n",
            "20/20 [==============================] - 0s 9ms/step - loss: 0.4192 - accuracy: 0.8013 - val_loss: 0.4534 - val_accuracy: 0.8182\n",
            "Epoch 90/100\n",
            "20/20 [==============================] - 0s 6ms/step - loss: 0.4187 - accuracy: 0.8046 - val_loss: 0.4515 - val_accuracy: 0.8117\n",
            "Epoch 91/100\n",
            "20/20 [==============================] - 0s 7ms/step - loss: 0.4184 - accuracy: 0.8046 - val_loss: 0.4518 - val_accuracy: 0.8182\n",
            "Epoch 92/100\n",
            "20/20 [==============================] - 0s 6ms/step - loss: 0.4182 - accuracy: 0.8046 - val_loss: 0.4528 - val_accuracy: 0.8052\n",
            "Epoch 93/100\n",
            "20/20 [==============================] - 0s 7ms/step - loss: 0.4184 - accuracy: 0.7997 - val_loss: 0.4538 - val_accuracy: 0.8182\n",
            "Epoch 94/100\n",
            "20/20 [==============================] - 0s 6ms/step - loss: 0.4173 - accuracy: 0.7980 - val_loss: 0.4531 - val_accuracy: 0.8117\n",
            "Epoch 95/100\n",
            "20/20 [==============================] - 0s 7ms/step - loss: 0.4171 - accuracy: 0.8013 - val_loss: 0.4523 - val_accuracy: 0.8117\n",
            "Epoch 96/100\n",
            "20/20 [==============================] - 0s 6ms/step - loss: 0.4169 - accuracy: 0.8013 - val_loss: 0.4521 - val_accuracy: 0.8052\n",
            "Epoch 97/100\n",
            "20/20 [==============================] - 0s 7ms/step - loss: 0.4165 - accuracy: 0.8062 - val_loss: 0.4540 - val_accuracy: 0.8117\n",
            "Epoch 98/100\n",
            "20/20 [==============================] - 0s 7ms/step - loss: 0.4166 - accuracy: 0.8062 - val_loss: 0.4539 - val_accuracy: 0.8182\n",
            "Epoch 99/100\n",
            "20/20 [==============================] - 0s 4ms/step - loss: 0.4162 - accuracy: 0.8046 - val_loss: 0.4549 - val_accuracy: 0.8117\n",
            "Epoch 100/100\n",
            "20/20 [==============================] - 0s 4ms/step - loss: 0.4161 - accuracy: 0.8046 - val_loss: 0.4536 - val_accuracy: 0.8117\n"
          ]
        }
      ]
    },
    {
      "cell_type": "code",
      "source": [
        "plt.plot(history.history['val_accuracy'], color='black', label='Validation Accuracy')\n",
        "plt.plot(history.history['accuracy'], color='red', label='Training Accuracy')\n",
        "plt.plot(history.history['val_loss'], color='blue', label='Validation Loss')\n",
        "plt.plot(history.history['loss'], color='green', label='Training Loss')\n",
        "\n",
        "# Add labels and legend\n",
        "plt.xlabel('Epochs')\n",
        "plt.ylabel('Accuracy / Loss')\n",
        "plt.title('Training and Validation Metrics')\n",
        "plt.legend()\n",
        "\n",
        "# Show plot\n",
        "plt.show()\n"
      ],
      "metadata": {
        "colab": {
          "base_uri": "https://localhost:8080/",
          "height": 472
        },
        "id": "M_TQhz9MDWKg",
        "outputId": "360985ea-0c59-488d-8c6a-5c8dcc3146f5"
      },
      "execution_count": 48,
      "outputs": [
        {
          "output_type": "display_data",
          "data": {
            "text/plain": [
              "<Figure size 640x480 with 1 Axes>"
            ],
            "image/png": "[encoded data removed]"
          },
          "metadata": {}
        }
      ]
    },
    {
      "cell_type": "code",
      "source": [],
      "metadata": {
        "id": "zv5iS_1LEeBh"
      },
      "execution_count": 50,
      "outputs": []
    },
    {
      "cell_type": "markdown",
      "source": [
        "# our goal here is to know\n",
        "#1 how to select appropriate optimizer\n",
        "#2 no. of nodes in a layer\n",
        "#3 how to select no. of layers\n",
        "#4 All in one model\n",
        "\n",
        "# this all will be done one by one by using keras tuner library"
      ],
      "metadata": {
        "id": "Sy1P-y0NFwrW"
      }
    },
    {
      "cell_type": "markdown",
      "source": [
        "# here we are trying to find the best optimizer the model"
      ],
      "metadata": {
        "id": "qOI6WZOeLPMB"
      }
    },
    {
      "cell_type": "code",
      "source": [
        "!pip install keras-tuner\n"
      ],
      "metadata": {
        "colab": {
          "base_uri": "https://localhost:8080/"
        },
        "id": "c7aB6URPFn2v",
        "outputId": "4ea7fed3-6f33-419e-9c23-91a856cf95fd"
      },
      "execution_count": 51,
      "outputs": [
        {
          "output_type": "stream",
          "name": "stdout",
          "text": [
            "Collecting keras-tuner\n",
            "  Downloading keras_tuner-1.4.7-py3-none-any.whl (129 kB)\n",
            "\u001b[2K     \u001b[90m━━━━━━━━━━━━━━━━━━━━━━━━━━━━━━━━━━━━━━━━\u001b[0m \u001b[32m129.1/129.1 kB\u001b[0m \u001b[31m2.8 MB/s\u001b[0m eta \u001b[36m0:00:00\u001b[0m\n",
            "\u001b[?25hRequirement already satisfied: keras in /usr/local/lib/python3.10/dist-packages (from keras-tuner) (2.15.0)\n",
            "Requirement already satisfied: packaging in /usr/local/lib/python3.10/dist-packages (from keras-tuner) (24.0)\n",
            "Requirement already satisfied: requests in /usr/local/lib/python3.10/dist-packages (from keras-tuner) (2.31.0)\n",
            "Collecting kt-legacy (from keras-tuner)\n",
            "  Downloading kt_legacy-1.0.5-py3-none-any.whl (9.6 kB)\n",
            "Requirement already satisfied: charset-normalizer<4,>=2 in /usr/local/lib/python3.10/dist-packages (from requests->keras-tuner) (3.3.2)\n",
            "Requirement already satisfied: idna<4,>=2.5 in /usr/local/lib/python3.10/dist-packages (from requests->keras-tuner) (3.7)\n",
            "Requirement already satisfied: urllib3<3,>=1.21.1 in /usr/local/lib/python3.10/dist-packages (from requests->keras-tuner) (2.0.7)\n",
            "Requirement already satisfied: certifi>=2017.4.17 in /usr/local/lib/python3.10/dist-packages (from requests->keras-tuner) (2024.2.2)\n",
            "Installing collected packages: kt-legacy, keras-tuner\n",
            "Successfully installed keras-tuner-1.4.7 kt-legacy-1.0.5\n"
          ]
        }
      ]
    },
    {
      "cell_type": "code",
      "source": [
        "import kerastuner as kt\n"
      ],
      "metadata": {
        "colab": {
          "base_uri": "https://localhost:8080/"
        },
        "id": "n08sk88FGCkC",
        "outputId": "95b41e5a-91d7-4e41-ac6d-b2071dc08238"
      },
      "execution_count": 52,
      "outputs": [
        {
          "output_type": "stream",
          "name": "stderr",
          "text": [
            "<ipython-input-52-5fd8096cdee5>:1: DeprecationWarning: `import kerastuner` is deprecated, please use `import keras_tuner`.\n",
            "  import kerastuner as kt\n"
          ]
        }
      ]
    },
    {
      "cell_type": "code",
      "source": [
        "# in this we are building a function which will help to choose the correct optimizer\n",
        "def build_model(hp):\n",
        "\n",
        "  model=Sequential()\n",
        "  model.add(Dense(32,activation='relu',input_dim=8))\n",
        "  model.add(Dense(1,activation='sigmoid'))\n",
        "\n",
        "  optimizer=hp.Choice('optimizer',values=['adam','sgd','rmsprop','adadelta'])\n",
        "  # this optimizer is given choice so this model will choose every optimizer once and work with that and give the best optimizer\n",
        "\n",
        "\n",
        "  model.compile(optimizer=optimizer,loss='binary_crossentropy',metrics=['accuracy'])\n",
        "  return model"
      ],
      "metadata": {
        "id": "HRDU5d5iGFva"
      },
      "execution_count": 53,
      "outputs": []
    },
    {
      "cell_type": "code",
      "source": [
        "# now making a tuner object\n",
        "\n",
        "tuner=kt.RandomSearch(build_model,\n",
        "                      objective='val_accuracy',\n",
        "                      max_trials=5)\n",
        "\n"
      ],
      "metadata": {
        "id": "gWPsbdPhH2fu"
      },
      "execution_count": 54,
      "outputs": []
    },
    {
      "cell_type": "code",
      "source": [
        "tuner.search(X_train,y_train,epochs=5,validation_data=(X_test,y_test))"
      ],
      "metadata": {
        "colab": {
          "base_uri": "https://localhost:8080/"
        },
        "id": "BpqzVGMUIakC",
        "outputId": "edb23c59-89b5-4d1d-c8c2-fab66b24d9ed"
      },
      "execution_count": 55,
      "outputs": [
        {
          "output_type": "stream",
          "name": "stdout",
          "text": [
            "Trial 4 Complete [00h 00m 02s]\n",
            "val_accuracy: 0.8051947951316833\n",
            "\n",
            "Best val_accuracy So Far: 0.8051947951316833\n",
            "Total elapsed time: 00h 00m 11s\n"
          ]
        }
      ]
    },
    {
      "cell_type": "code",
      "source": [
        "tuner.results_summary()\n",
        "# here we can see that adadelta has preformed best with val_accuracy"
      ],
      "metadata": {
        "id": "-LcnG9ugItQV"
      },
      "execution_count": null,
      "outputs": []
    },
    {
      "cell_type": "code",
      "source": [
        "# now directly calling the model based on the best optimnzer\n",
        "model = tuner.get_best_models(num_models=1)[0]\n",
        "\n",
        "\n",
        "\n"
      ],
      "metadata": {
        "id": "1v09SkMhJHs6"
      },
      "execution_count": 60,
      "outputs": []
    },
    {
      "cell_type": "code",
      "source": [
        "model.summary()"
      ],
      "metadata": {
        "colab": {
          "base_uri": "https://localhost:8080/"
        },
        "id": "uCBVbrIeJ0QU",
        "outputId": "c2523843-b7d7-4138-ab40-f904dc4eac09"
      },
      "execution_count": 61,
      "outputs": [
        {
          "output_type": "stream",
          "name": "stdout",
          "text": [
            "Model: \"sequential\"\n",
            "_________________________________________________________________\n",
            " Layer (type)                Output Shape              Param #   \n",
            "=================================================================\n",
            " dense (Dense)               (None, 32)                288       \n",
            "                                                                 \n",
            " dense_1 (Dense)             (None, 1)                 33        \n",
            "                                                                 \n",
            "=================================================================\n",
            "Total params: 321 (1.25 KB)\n",
            "Trainable params: 321 (1.25 KB)\n",
            "Non-trainable params: 0 (0.00 Byte)\n",
            "_________________________________________________________________\n"
          ]
        }
      ]
    },
    {
      "cell_type": "code",
      "source": [
        "model.fit(X_train,y_train,epochs=100,initial_epochs=6,batch_size=32,validation_data=(X_test,y_test))"
      ],
      "metadata": {
        "colab": {
          "base_uri": "https://localhost:8080/"
        },
        "id": "UBoUbxLfKUph",
        "outputId": "4c355d40-59b1-45fa-c247-94046dd5da11"
      },
      "execution_count": 66,
      "outputs": [
        {
          "output_type": "stream",
          "name": "stdout",
          "text": [
            "Epoch 7/100\n",
            "20/20 [==============================] - 0s 7ms/step - loss: 0.3919 - accuracy: 0.8241 - val_loss: 0.4579 - val_accuracy: 0.7987\n",
            "Epoch 8/100\n",
            "20/20 [==============================] - 0s 15ms/step - loss: 0.3920 - accuracy: 0.8241 - val_loss: 0.4583 - val_accuracy: 0.8052\n",
            "Epoch 9/100\n",
            "20/20 [==============================] - 0s 11ms/step - loss: 0.3915 - accuracy: 0.8257 - val_loss: 0.4607 - val_accuracy: 0.7922\n",
            "Epoch 10/100\n",
            "20/20 [==============================] - 0s 10ms/step - loss: 0.3911 - accuracy: 0.8274 - val_loss: 0.4603 - val_accuracy: 0.7987\n",
            "Epoch 11/100\n",
            "20/20 [==============================] - 0s 10ms/step - loss: 0.3907 - accuracy: 0.8241 - val_loss: 0.4600 - val_accuracy: 0.7987\n",
            "Epoch 12/100\n",
            "20/20 [==============================] - 0s 10ms/step - loss: 0.3908 - accuracy: 0.8274 - val_loss: 0.4613 - val_accuracy: 0.8052\n",
            "Epoch 13/100\n",
            "20/20 [==============================] - 0s 11ms/step - loss: 0.3903 - accuracy: 0.8274 - val_loss: 0.4619 - val_accuracy: 0.7987\n",
            "Epoch 14/100\n",
            "20/20 [==============================] - 0s 7ms/step - loss: 0.3901 - accuracy: 0.8257 - val_loss: 0.4637 - val_accuracy: 0.7922\n",
            "Epoch 15/100\n",
            "20/20 [==============================] - 0s 7ms/step - loss: 0.3901 - accuracy: 0.8274 - val_loss: 0.4618 - val_accuracy: 0.7987\n",
            "Epoch 16/100\n",
            "20/20 [==============================] - 0s 8ms/step - loss: 0.3910 - accuracy: 0.8225 - val_loss: 0.4628 - val_accuracy: 0.7987\n",
            "Epoch 17/100\n",
            "20/20 [==============================] - 0s 10ms/step - loss: 0.3900 - accuracy: 0.8290 - val_loss: 0.4635 - val_accuracy: 0.7922\n",
            "Epoch 18/100\n",
            "20/20 [==============================] - 0s 7ms/step - loss: 0.3897 - accuracy: 0.8208 - val_loss: 0.4644 - val_accuracy: 0.7987\n",
            "Epoch 19/100\n",
            "20/20 [==============================] - 0s 9ms/step - loss: 0.3892 - accuracy: 0.8257 - val_loss: 0.4631 - val_accuracy: 0.7987\n",
            "Epoch 20/100\n",
            "20/20 [==============================] - 0s 5ms/step - loss: 0.3891 - accuracy: 0.8290 - val_loss: 0.4633 - val_accuracy: 0.7987\n",
            "Epoch 21/100\n",
            "20/20 [==============================] - 0s 4ms/step - loss: 0.3884 - accuracy: 0.8290 - val_loss: 0.4631 - val_accuracy: 0.7987\n",
            "Epoch 22/100\n",
            "20/20 [==============================] - 0s 5ms/step - loss: 0.3888 - accuracy: 0.8241 - val_loss: 0.4632 - val_accuracy: 0.8052\n",
            "Epoch 23/100\n",
            "20/20 [==============================] - 0s 4ms/step - loss: 0.3890 - accuracy: 0.8290 - val_loss: 0.4634 - val_accuracy: 0.7987\n",
            "Epoch 24/100\n",
            "20/20 [==============================] - 0s 4ms/step - loss: 0.3883 - accuracy: 0.8208 - val_loss: 0.4660 - val_accuracy: 0.7987\n",
            "Epoch 25/100\n",
            "20/20 [==============================] - 0s 4ms/step - loss: 0.3878 - accuracy: 0.8257 - val_loss: 0.4668 - val_accuracy: 0.7987\n",
            "Epoch 26/100\n",
            "20/20 [==============================] - 0s 5ms/step - loss: 0.3879 - accuracy: 0.8290 - val_loss: 0.4658 - val_accuracy: 0.7987\n",
            "Epoch 27/100\n",
            "20/20 [==============================] - 0s 4ms/step - loss: 0.3875 - accuracy: 0.8241 - val_loss: 0.4643 - val_accuracy: 0.7987\n",
            "Epoch 28/100\n",
            "20/20 [==============================] - 0s 7ms/step - loss: 0.3865 - accuracy: 0.8257 - val_loss: 0.4632 - val_accuracy: 0.7987\n",
            "Epoch 29/100\n",
            "20/20 [==============================] - 0s 7ms/step - loss: 0.3872 - accuracy: 0.8208 - val_loss: 0.4635 - val_accuracy: 0.7987\n",
            "Epoch 30/100\n",
            "20/20 [==============================] - 0s 8ms/step - loss: 0.3870 - accuracy: 0.8241 - val_loss: 0.4654 - val_accuracy: 0.8052\n",
            "Epoch 31/100\n",
            "20/20 [==============================] - 0s 7ms/step - loss: 0.3866 - accuracy: 0.8274 - val_loss: 0.4632 - val_accuracy: 0.8052\n",
            "Epoch 32/100\n",
            "20/20 [==============================] - 0s 6ms/step - loss: 0.3864 - accuracy: 0.8241 - val_loss: 0.4626 - val_accuracy: 0.8052\n",
            "Epoch 33/100\n",
            "20/20 [==============================] - 0s 6ms/step - loss: 0.3859 - accuracy: 0.8225 - val_loss: 0.4638 - val_accuracy: 0.8052\n",
            "Epoch 34/100\n",
            "20/20 [==============================] - 0s 6ms/step - loss: 0.3860 - accuracy: 0.8274 - val_loss: 0.4645 - val_accuracy: 0.7987\n",
            "Epoch 35/100\n",
            "20/20 [==============================] - 0s 6ms/step - loss: 0.3859 - accuracy: 0.8274 - val_loss: 0.4640 - val_accuracy: 0.8052\n",
            "Epoch 36/100\n",
            "20/20 [==============================] - 0s 6ms/step - loss: 0.3853 - accuracy: 0.8208 - val_loss: 0.4654 - val_accuracy: 0.7987\n",
            "Epoch 37/100\n",
            "20/20 [==============================] - 0s 9ms/step - loss: 0.3856 - accuracy: 0.8225 - val_loss: 0.4656 - val_accuracy: 0.7922\n",
            "Epoch 38/100\n",
            "20/20 [==============================] - 0s 6ms/step - loss: 0.3852 - accuracy: 0.8274 - val_loss: 0.4655 - val_accuracy: 0.8052\n",
            "Epoch 39/100\n",
            "20/20 [==============================] - 0s 6ms/step - loss: 0.3848 - accuracy: 0.8290 - val_loss: 0.4650 - val_accuracy: 0.8052\n",
            "Epoch 40/100\n",
            "20/20 [==============================] - 0s 6ms/step - loss: 0.3851 - accuracy: 0.8290 - val_loss: 0.4656 - val_accuracy: 0.7987\n",
            "Epoch 41/100\n",
            "20/20 [==============================] - 0s 6ms/step - loss: 0.3848 - accuracy: 0.8290 - val_loss: 0.4672 - val_accuracy: 0.7987\n",
            "Epoch 42/100\n",
            "20/20 [==============================] - 0s 6ms/step - loss: 0.3853 - accuracy: 0.8225 - val_loss: 0.4661 - val_accuracy: 0.7987\n",
            "Epoch 43/100\n",
            "20/20 [==============================] - 0s 6ms/step - loss: 0.3840 - accuracy: 0.8274 - val_loss: 0.4660 - val_accuracy: 0.7987\n",
            "Epoch 44/100\n",
            "20/20 [==============================] - 0s 6ms/step - loss: 0.3840 - accuracy: 0.8274 - val_loss: 0.4660 - val_accuracy: 0.7987\n",
            "Epoch 45/100\n",
            "20/20 [==============================] - 0s 7ms/step - loss: 0.3843 - accuracy: 0.8257 - val_loss: 0.4657 - val_accuracy: 0.7987\n",
            "Epoch 46/100\n",
            "20/20 [==============================] - 0s 8ms/step - loss: 0.3837 - accuracy: 0.8290 - val_loss: 0.4661 - val_accuracy: 0.8052\n",
            "Epoch 47/100\n",
            "20/20 [==============================] - 0s 4ms/step - loss: 0.3831 - accuracy: 0.8257 - val_loss: 0.4658 - val_accuracy: 0.8052\n",
            "Epoch 48/100\n",
            "20/20 [==============================] - 0s 4ms/step - loss: 0.3833 - accuracy: 0.8290 - val_loss: 0.4647 - val_accuracy: 0.8117\n",
            "Epoch 49/100\n",
            "20/20 [==============================] - 0s 4ms/step - loss: 0.3827 - accuracy: 0.8322 - val_loss: 0.4667 - val_accuracy: 0.8052\n",
            "Epoch 50/100\n",
            "20/20 [==============================] - 0s 4ms/step - loss: 0.3830 - accuracy: 0.8257 - val_loss: 0.4659 - val_accuracy: 0.8052\n",
            "Epoch 51/100\n",
            "20/20 [==============================] - 0s 5ms/step - loss: 0.3824 - accuracy: 0.8306 - val_loss: 0.4668 - val_accuracy: 0.8117\n",
            "Epoch 52/100\n",
            "20/20 [==============================] - 0s 5ms/step - loss: 0.3818 - accuracy: 0.8274 - val_loss: 0.4672 - val_accuracy: 0.8052\n",
            "Epoch 53/100\n",
            "20/20 [==============================] - 0s 4ms/step - loss: 0.3826 - accuracy: 0.8290 - val_loss: 0.4676 - val_accuracy: 0.8117\n",
            "Epoch 54/100\n",
            "20/20 [==============================] - 0s 4ms/step - loss: 0.3819 - accuracy: 0.8306 - val_loss: 0.4681 - val_accuracy: 0.8052\n",
            "Epoch 55/100\n",
            "20/20 [==============================] - 0s 5ms/step - loss: 0.3815 - accuracy: 0.8306 - val_loss: 0.4675 - val_accuracy: 0.8117\n",
            "Epoch 56/100\n",
            "20/20 [==============================] - 0s 4ms/step - loss: 0.3811 - accuracy: 0.8225 - val_loss: 0.4653 - val_accuracy: 0.8052\n",
            "Epoch 57/100\n",
            "20/20 [==============================] - 0s 4ms/step - loss: 0.3808 - accuracy: 0.8241 - val_loss: 0.4648 - val_accuracy: 0.8052\n",
            "Epoch 58/100\n",
            "20/20 [==============================] - 0s 4ms/step - loss: 0.3808 - accuracy: 0.8274 - val_loss: 0.4652 - val_accuracy: 0.8052\n",
            "Epoch 59/100\n",
            "20/20 [==============================] - 0s 3ms/step - loss: 0.3807 - accuracy: 0.8241 - val_loss: 0.4645 - val_accuracy: 0.8052\n",
            "Epoch 60/100\n",
            "20/20 [==============================] - 0s 4ms/step - loss: 0.3809 - accuracy: 0.8290 - val_loss: 0.4681 - val_accuracy: 0.7987\n",
            "Epoch 61/100\n",
            "20/20 [==============================] - 0s 3ms/step - loss: 0.3802 - accuracy: 0.8290 - val_loss: 0.4659 - val_accuracy: 0.7987\n",
            "Epoch 62/100\n",
            "20/20 [==============================] - 0s 3ms/step - loss: 0.3796 - accuracy: 0.8274 - val_loss: 0.4656 - val_accuracy: 0.7987\n",
            "Epoch 63/100\n",
            "20/20 [==============================] - 0s 4ms/step - loss: 0.3805 - accuracy: 0.8257 - val_loss: 0.4667 - val_accuracy: 0.8117\n",
            "Epoch 64/100\n",
            "20/20 [==============================] - 0s 4ms/step - loss: 0.3799 - accuracy: 0.8274 - val_loss: 0.4671 - val_accuracy: 0.8182\n",
            "Epoch 65/100\n",
            "20/20 [==============================] - 0s 4ms/step - loss: 0.3794 - accuracy: 0.8274 - val_loss: 0.4669 - val_accuracy: 0.8182\n",
            "Epoch 66/100\n",
            "20/20 [==============================] - 0s 4ms/step - loss: 0.3810 - accuracy: 0.8225 - val_loss: 0.4678 - val_accuracy: 0.7987\n",
            "Epoch 67/100\n",
            "20/20 [==============================] - 0s 5ms/step - loss: 0.3798 - accuracy: 0.8274 - val_loss: 0.4689 - val_accuracy: 0.7987\n",
            "Epoch 68/100\n",
            "20/20 [==============================] - 0s 4ms/step - loss: 0.3794 - accuracy: 0.8274 - val_loss: 0.4681 - val_accuracy: 0.8052\n",
            "Epoch 69/100\n",
            "20/20 [==============================] - 0s 4ms/step - loss: 0.3787 - accuracy: 0.8322 - val_loss: 0.4697 - val_accuracy: 0.7987\n",
            "Epoch 70/100\n",
            "20/20 [==============================] - 0s 4ms/step - loss: 0.3784 - accuracy: 0.8306 - val_loss: 0.4711 - val_accuracy: 0.7987\n",
            "Epoch 71/100\n",
            "20/20 [==============================] - 0s 4ms/step - loss: 0.3783 - accuracy: 0.8306 - val_loss: 0.4699 - val_accuracy: 0.7987\n",
            "Epoch 72/100\n",
            "20/20 [==============================] - 0s 4ms/step - loss: 0.3772 - accuracy: 0.8306 - val_loss: 0.4717 - val_accuracy: 0.7922\n",
            "Epoch 73/100\n",
            "20/20 [==============================] - 0s 4ms/step - loss: 0.3775 - accuracy: 0.8290 - val_loss: 0.4729 - val_accuracy: 0.8052\n",
            "Epoch 74/100\n",
            "20/20 [==============================] - 0s 3ms/step - loss: 0.3776 - accuracy: 0.8290 - val_loss: 0.4719 - val_accuracy: 0.7922\n",
            "Epoch 75/100\n",
            "20/20 [==============================] - 0s 4ms/step - loss: 0.3769 - accuracy: 0.8257 - val_loss: 0.4716 - val_accuracy: 0.7922\n",
            "Epoch 76/100\n",
            "20/20 [==============================] - 0s 3ms/step - loss: 0.3766 - accuracy: 0.8306 - val_loss: 0.4697 - val_accuracy: 0.7922\n",
            "Epoch 77/100\n",
            "20/20 [==============================] - 0s 4ms/step - loss: 0.3767 - accuracy: 0.8257 - val_loss: 0.4692 - val_accuracy: 0.7987\n",
            "Epoch 78/100\n",
            "20/20 [==============================] - 0s 3ms/step - loss: 0.3763 - accuracy: 0.8290 - val_loss: 0.4683 - val_accuracy: 0.7987\n",
            "Epoch 79/100\n",
            "20/20 [==============================] - 0s 4ms/step - loss: 0.3763 - accuracy: 0.8257 - val_loss: 0.4705 - val_accuracy: 0.7987\n",
            "Epoch 80/100\n",
            "20/20 [==============================] - 0s 5ms/step - loss: 0.3781 - accuracy: 0.8208 - val_loss: 0.4705 - val_accuracy: 0.8052\n",
            "Epoch 81/100\n",
            "20/20 [==============================] - 0s 4ms/step - loss: 0.3768 - accuracy: 0.8143 - val_loss: 0.4698 - val_accuracy: 0.8117\n",
            "Epoch 82/100\n",
            "20/20 [==============================] - 0s 4ms/step - loss: 0.3754 - accuracy: 0.8274 - val_loss: 0.4717 - val_accuracy: 0.8117\n",
            "Epoch 83/100\n",
            "20/20 [==============================] - 0s 3ms/step - loss: 0.3751 - accuracy: 0.8290 - val_loss: 0.4723 - val_accuracy: 0.8117\n",
            "Epoch 84/100\n",
            "20/20 [==============================] - 0s 4ms/step - loss: 0.3749 - accuracy: 0.8257 - val_loss: 0.4718 - val_accuracy: 0.8117\n",
            "Epoch 85/100\n",
            "20/20 [==============================] - 0s 3ms/step - loss: 0.3752 - accuracy: 0.8290 - val_loss: 0.4709 - val_accuracy: 0.7987\n",
            "Epoch 86/100\n",
            "20/20 [==============================] - 0s 4ms/step - loss: 0.3756 - accuracy: 0.8274 - val_loss: 0.4710 - val_accuracy: 0.7987\n",
            "Epoch 87/100\n",
            "20/20 [==============================] - 0s 4ms/step - loss: 0.3745 - accuracy: 0.8257 - val_loss: 0.4703 - val_accuracy: 0.8052\n",
            "Epoch 88/100\n",
            "20/20 [==============================] - 0s 4ms/step - loss: 0.3746 - accuracy: 0.8274 - val_loss: 0.4715 - val_accuracy: 0.8052\n",
            "Epoch 89/100\n",
            "20/20 [==============================] - 0s 3ms/step - loss: 0.3737 - accuracy: 0.8274 - val_loss: 0.4715 - val_accuracy: 0.8117\n",
            "Epoch 90/100\n",
            "20/20 [==============================] - 0s 3ms/step - loss: 0.3739 - accuracy: 0.8225 - val_loss: 0.4710 - val_accuracy: 0.8182\n",
            "Epoch 91/100\n",
            "20/20 [==============================] - 0s 3ms/step - loss: 0.3740 - accuracy: 0.8274 - val_loss: 0.4723 - val_accuracy: 0.8052\n",
            "Epoch 92/100\n",
            "20/20 [==============================] - 0s 5ms/step - loss: 0.3736 - accuracy: 0.8257 - val_loss: 0.4726 - val_accuracy: 0.8052\n",
            "Epoch 93/100\n",
            "20/20 [==============================] - 0s 4ms/step - loss: 0.3731 - accuracy: 0.8274 - val_loss: 0.4728 - val_accuracy: 0.8052\n",
            "Epoch 94/100\n",
            "20/20 [==============================] - 0s 4ms/step - loss: 0.3728 - accuracy: 0.8257 - val_loss: 0.4726 - val_accuracy: 0.8117\n",
            "Epoch 95/100\n",
            "20/20 [==============================] - 0s 4ms/step - loss: 0.3722 - accuracy: 0.8241 - val_loss: 0.4736 - val_accuracy: 0.8117\n",
            "Epoch 96/100\n",
            "20/20 [==============================] - 0s 4ms/step - loss: 0.3727 - accuracy: 0.8274 - val_loss: 0.4748 - val_accuracy: 0.8117\n",
            "Epoch 97/100\n",
            "20/20 [==============================] - 0s 5ms/step - loss: 0.3735 - accuracy: 0.8274 - val_loss: 0.4721 - val_accuracy: 0.8052\n",
            "Epoch 98/100\n",
            "20/20 [==============================] - 0s 4ms/step - loss: 0.3715 - accuracy: 0.8322 - val_loss: 0.4734 - val_accuracy: 0.8117\n",
            "Epoch 99/100\n",
            "20/20 [==============================] - 0s 4ms/step - loss: 0.3717 - accuracy: 0.8257 - val_loss: 0.4737 - val_accuracy: 0.8052\n",
            "Epoch 100/100\n",
            "20/20 [==============================] - 0s 5ms/step - loss: 0.3713 - accuracy: 0.8306 - val_loss: 0.4739 - val_accuracy: 0.8117\n"
          ]
        }
      ]
    },
    {
      "cell_type": "code",
      "source": [],
      "metadata": {
        "id": "8DYRoJ-SKnQ1"
      },
      "execution_count": 65,
      "outputs": []
    },
    {
      "cell_type": "markdown",
      "source": [
        "#now we will be taking out how to know suitable number of neurons in the layers"
      ],
      "metadata": {
        "id": "skRlSj2cLEXW"
      }
    },
    {
      "cell_type": "code",
      "source": [
        "def build_model(hp):\n",
        "\n",
        "   model=Sequential()\n",
        "\n",
        "   units=hp.Int('units',min_value=8,max_value=128,step=8)\n",
        "   \"\"\" here in unit we are giving initial number of neuran to be 8 and move with 8 step size which means it will first take 8 neuron and make a model ,\n",
        "   then with 16   until it rechase 128\n",
        "   incase we remove the step then  it will take default vallue as 1\"\"\"\n",
        "\n",
        "\n",
        "   model.add(Dense(units=units,activation='relu',input_dim=8))\n",
        "   model.add(Dense(1,activation='sigmoid'))\n",
        "\n",
        "   model.compile(optimizer='adam',loss='binary_crossentropy',metrics=['accuracy'])\n",
        "   # here we used adam as opimizer as from the previous codes we know that adam is best for the data\n",
        "   return model"
      ],
      "metadata": {
        "id": "6pkuOC1jKz3y"
      },
      "execution_count": 68,
      "outputs": []
    },
    {
      "cell_type": "code",
      "source": [
        "# again making tuner object\n",
        "\n",
        "tuner=kt.RandomSearch(build_model,\n",
        "                      objective='val_accuracy',\n",
        "                      max_trials=5,\n",
        "                      directory='mydir')\n"
      ],
      "metadata": {
        "id": "bVl6g8fFM-aZ"
      },
      "execution_count": 71,
      "outputs": []
    },
    {
      "cell_type": "code",
      "source": [
        "tuner.search(X_train,y_train,epochs=5,validation_data=(X_test,y_test))"
      ],
      "metadata": {
        "colab": {
          "base_uri": "https://localhost:8080/"
        },
        "id": "1OvbFRGmNawB",
        "outputId": "c16c2781-524a-4f9c-eafa-19c4f99d48f1"
      },
      "execution_count": 73,
      "outputs": [
        {
          "output_type": "stream",
          "name": "stdout",
          "text": [
            "Trial 5 Complete [00h 00m 02s]\n",
            "val_accuracy: 0.798701286315918\n",
            "\n",
            "Best val_accuracy So Far: 0.798701286315918\n",
            "Total elapsed time: 00h 00m 18s\n"
          ]
        }
      ]
    },
    {
      "cell_type": "code",
      "source": [
        "tuner.results_summary()"
      ],
      "metadata": {
        "id": "qDKyWNf-NmCO"
      },
      "execution_count": null,
      "outputs": []
    },
    {
      "cell_type": "code",
      "source": [
        "tuner.get_best_hyperparameters()[0].values# gettiing us best parameters"
      ],
      "metadata": {
        "colab": {
          "base_uri": "https://localhost:8080/"
        },
        "id": "CmHQRE1yOEao",
        "outputId": "e22b2309-9e61-414d-a4d2-962192dee6fb"
      },
      "execution_count": 76,
      "outputs": [
        {
          "output_type": "execute_result",
          "data": {
            "text/plain": [
              "{'units': 128}"
            ]
          },
          "metadata": {},
          "execution_count": 76
        }
      ]
    },
    {
      "cell_type": "code",
      "source": [
        "model=tuner.get_best_models(num_models=1)[0]"
      ],
      "metadata": {
        "id": "MDNCg3uROzeS"
      },
      "execution_count": 78,
      "outputs": []
    },
    {
      "cell_type": "code",
      "source": [
        "model.fit(X_train,y_train,epochs=100,batch_size=32,validation_data=(X_test,y_test))"
      ],
      "metadata": {
        "colab": {
          "base_uri": "https://localhost:8080/"
        },
        "id": "IlVga5BPPIVH",
        "outputId": "db57cfe4-88cf-4067-b297-31839db3a403"
      },
      "execution_count": 80,
      "outputs": [
        {
          "output_type": "stream",
          "name": "stdout",
          "text": [
            "Epoch 1/100\n",
            "20/20 [==============================] - 1s 19ms/step - loss: 0.4664 - accuracy: 0.7769 - val_loss: 0.4880 - val_accuracy: 0.7987\n",
            "Epoch 2/100\n",
            "20/20 [==============================] - 0s 12ms/step - loss: 0.4608 - accuracy: 0.7818 - val_loss: 0.4851 - val_accuracy: 0.7922\n",
            "Epoch 3/100\n",
            "20/20 [==============================] - 0s 10ms/step - loss: 0.4565 - accuracy: 0.7785 - val_loss: 0.4804 - val_accuracy: 0.7857\n",
            "Epoch 4/100\n",
            "20/20 [==============================] - 0s 9ms/step - loss: 0.4530 - accuracy: 0.7769 - val_loss: 0.4800 - val_accuracy: 0.8052\n",
            "Epoch 5/100\n",
            "20/20 [==============================] - 0s 12ms/step - loss: 0.4497 - accuracy: 0.7785 - val_loss: 0.4808 - val_accuracy: 0.7857\n",
            "Epoch 6/100\n",
            "20/20 [==============================] - 0s 10ms/step - loss: 0.4473 - accuracy: 0.7801 - val_loss: 0.4815 - val_accuracy: 0.8052\n",
            "Epoch 7/100\n",
            "20/20 [==============================] - 0s 10ms/step - loss: 0.4464 - accuracy: 0.7752 - val_loss: 0.4800 - val_accuracy: 0.7922\n",
            "Epoch 8/100\n",
            "20/20 [==============================] - 0s 11ms/step - loss: 0.4441 - accuracy: 0.7834 - val_loss: 0.4785 - val_accuracy: 0.8052\n",
            "Epoch 9/100\n",
            "20/20 [==============================] - 0s 12ms/step - loss: 0.4432 - accuracy: 0.7785 - val_loss: 0.4764 - val_accuracy: 0.8052\n",
            "Epoch 10/100\n",
            "20/20 [==============================] - 0s 5ms/step - loss: 0.4421 - accuracy: 0.7785 - val_loss: 0.4784 - val_accuracy: 0.7922\n",
            "Epoch 11/100\n",
            "20/20 [==============================] - 0s 5ms/step - loss: 0.4400 - accuracy: 0.7801 - val_loss: 0.4789 - val_accuracy: 0.7922\n",
            "Epoch 12/100\n",
            "20/20 [==============================] - 0s 6ms/step - loss: 0.4384 - accuracy: 0.7818 - val_loss: 0.4716 - val_accuracy: 0.8182\n",
            "Epoch 13/100\n",
            "20/20 [==============================] - 0s 6ms/step - loss: 0.4370 - accuracy: 0.7834 - val_loss: 0.4729 - val_accuracy: 0.8182\n",
            "Epoch 14/100\n",
            "20/20 [==============================] - 0s 6ms/step - loss: 0.4357 - accuracy: 0.7801 - val_loss: 0.4737 - val_accuracy: 0.8117\n",
            "Epoch 15/100\n",
            "20/20 [==============================] - 0s 6ms/step - loss: 0.4347 - accuracy: 0.7834 - val_loss: 0.4735 - val_accuracy: 0.8117\n",
            "Epoch 16/100\n",
            "20/20 [==============================] - 0s 6ms/step - loss: 0.4337 - accuracy: 0.7850 - val_loss: 0.4717 - val_accuracy: 0.8182\n",
            "Epoch 17/100\n",
            "20/20 [==============================] - 0s 6ms/step - loss: 0.4322 - accuracy: 0.7850 - val_loss: 0.4734 - val_accuracy: 0.8117\n",
            "Epoch 18/100\n",
            "20/20 [==============================] - 0s 4ms/step - loss: 0.4314 - accuracy: 0.7883 - val_loss: 0.4742 - val_accuracy: 0.8052\n",
            "Epoch 19/100\n",
            "20/20 [==============================] - 0s 3ms/step - loss: 0.4303 - accuracy: 0.7866 - val_loss: 0.4741 - val_accuracy: 0.8052\n",
            "Epoch 20/100\n",
            "20/20 [==============================] - 0s 4ms/step - loss: 0.4297 - accuracy: 0.7866 - val_loss: 0.4757 - val_accuracy: 0.7922\n",
            "Epoch 21/100\n",
            "20/20 [==============================] - 0s 5ms/step - loss: 0.4290 - accuracy: 0.7850 - val_loss: 0.4747 - val_accuracy: 0.7987\n",
            "Epoch 22/100\n",
            "20/20 [==============================] - 0s 4ms/step - loss: 0.4274 - accuracy: 0.7899 - val_loss: 0.4728 - val_accuracy: 0.7987\n",
            "Epoch 23/100\n",
            "20/20 [==============================] - 0s 4ms/step - loss: 0.4262 - accuracy: 0.7915 - val_loss: 0.4712 - val_accuracy: 0.8052\n",
            "Epoch 24/100\n",
            "20/20 [==============================] - 0s 4ms/step - loss: 0.4250 - accuracy: 0.7883 - val_loss: 0.4730 - val_accuracy: 0.8052\n",
            "Epoch 25/100\n",
            "20/20 [==============================] - 0s 4ms/step - loss: 0.4247 - accuracy: 0.7915 - val_loss: 0.4723 - val_accuracy: 0.8117\n",
            "Epoch 26/100\n",
            "20/20 [==============================] - 0s 4ms/step - loss: 0.4239 - accuracy: 0.7932 - val_loss: 0.4713 - val_accuracy: 0.8052\n",
            "Epoch 27/100\n",
            "20/20 [==============================] - 0s 4ms/step - loss: 0.4223 - accuracy: 0.7932 - val_loss: 0.4714 - val_accuracy: 0.8117\n",
            "Epoch 28/100\n",
            "20/20 [==============================] - 0s 4ms/step - loss: 0.4220 - accuracy: 0.7932 - val_loss: 0.4702 - val_accuracy: 0.8117\n",
            "Epoch 29/100\n",
            "20/20 [==============================] - 0s 4ms/step - loss: 0.4214 - accuracy: 0.7899 - val_loss: 0.4717 - val_accuracy: 0.7987\n",
            "Epoch 30/100\n",
            "20/20 [==============================] - 0s 4ms/step - loss: 0.4199 - accuracy: 0.7980 - val_loss: 0.4690 - val_accuracy: 0.8117\n",
            "Epoch 31/100\n",
            "20/20 [==============================] - 0s 4ms/step - loss: 0.4194 - accuracy: 0.7964 - val_loss: 0.4682 - val_accuracy: 0.8052\n",
            "Epoch 32/100\n",
            "20/20 [==============================] - 0s 4ms/step - loss: 0.4190 - accuracy: 0.7997 - val_loss: 0.4643 - val_accuracy: 0.8117\n",
            "Epoch 33/100\n",
            "20/20 [==============================] - 0s 5ms/step - loss: 0.4179 - accuracy: 0.7980 - val_loss: 0.4655 - val_accuracy: 0.8117\n",
            "Epoch 34/100\n",
            "20/20 [==============================] - 0s 4ms/step - loss: 0.4176 - accuracy: 0.8013 - val_loss: 0.4651 - val_accuracy: 0.7987\n",
            "Epoch 35/100\n",
            "20/20 [==============================] - 0s 4ms/step - loss: 0.4166 - accuracy: 0.8046 - val_loss: 0.4662 - val_accuracy: 0.8247\n",
            "Epoch 36/100\n",
            "20/20 [==============================] - 0s 4ms/step - loss: 0.4154 - accuracy: 0.7997 - val_loss: 0.4657 - val_accuracy: 0.8117\n",
            "Epoch 37/100\n",
            "20/20 [==============================] - 0s 4ms/step - loss: 0.4147 - accuracy: 0.7980 - val_loss: 0.4657 - val_accuracy: 0.8117\n",
            "Epoch 38/100\n",
            "20/20 [==============================] - 0s 4ms/step - loss: 0.4132 - accuracy: 0.7997 - val_loss: 0.4694 - val_accuracy: 0.8117\n",
            "Epoch 39/100\n",
            "20/20 [==============================] - 0s 4ms/step - loss: 0.4137 - accuracy: 0.7997 - val_loss: 0.4692 - val_accuracy: 0.8052\n",
            "Epoch 40/100\n",
            "20/20 [==============================] - 0s 5ms/step - loss: 0.4119 - accuracy: 0.8013 - val_loss: 0.4687 - val_accuracy: 0.8117\n",
            "Epoch 41/100\n",
            "20/20 [==============================] - 0s 4ms/step - loss: 0.4133 - accuracy: 0.7964 - val_loss: 0.4645 - val_accuracy: 0.8052\n",
            "Epoch 42/100\n",
            "20/20 [==============================] - 0s 4ms/step - loss: 0.4107 - accuracy: 0.8046 - val_loss: 0.4655 - val_accuracy: 0.8117\n",
            "Epoch 43/100\n",
            "20/20 [==============================] - 0s 4ms/step - loss: 0.4111 - accuracy: 0.8029 - val_loss: 0.4666 - val_accuracy: 0.8052\n",
            "Epoch 44/100\n",
            "20/20 [==============================] - 0s 5ms/step - loss: 0.4095 - accuracy: 0.8078 - val_loss: 0.4669 - val_accuracy: 0.8117\n",
            "Epoch 45/100\n",
            "20/20 [==============================] - 0s 4ms/step - loss: 0.4085 - accuracy: 0.8094 - val_loss: 0.4670 - val_accuracy: 0.8052\n",
            "Epoch 46/100\n",
            "20/20 [==============================] - 0s 4ms/step - loss: 0.4089 - accuracy: 0.8078 - val_loss: 0.4663 - val_accuracy: 0.8052\n",
            "Epoch 47/100\n",
            "20/20 [==============================] - 0s 4ms/step - loss: 0.4072 - accuracy: 0.8127 - val_loss: 0.4694 - val_accuracy: 0.8052\n",
            "Epoch 48/100\n",
            "20/20 [==============================] - 0s 4ms/step - loss: 0.4073 - accuracy: 0.8062 - val_loss: 0.4695 - val_accuracy: 0.8247\n",
            "Epoch 49/100\n",
            "20/20 [==============================] - 0s 3ms/step - loss: 0.4066 - accuracy: 0.8062 - val_loss: 0.4700 - val_accuracy: 0.8052\n",
            "Epoch 50/100\n",
            "20/20 [==============================] - 0s 3ms/step - loss: 0.4051 - accuracy: 0.8127 - val_loss: 0.4721 - val_accuracy: 0.7922\n",
            "Epoch 51/100\n",
            "20/20 [==============================] - 0s 4ms/step - loss: 0.4043 - accuracy: 0.8160 - val_loss: 0.4698 - val_accuracy: 0.7987\n",
            "Epoch 52/100\n",
            "20/20 [==============================] - 0s 4ms/step - loss: 0.4044 - accuracy: 0.8176 - val_loss: 0.4717 - val_accuracy: 0.7987\n",
            "Epoch 53/100\n",
            "20/20 [==============================] - 0s 4ms/step - loss: 0.4036 - accuracy: 0.8160 - val_loss: 0.4722 - val_accuracy: 0.8117\n",
            "Epoch 54/100\n",
            "20/20 [==============================] - 0s 4ms/step - loss: 0.4031 - accuracy: 0.8143 - val_loss: 0.4713 - val_accuracy: 0.7987\n",
            "Epoch 55/100\n",
            "20/20 [==============================] - 0s 4ms/step - loss: 0.4026 - accuracy: 0.8143 - val_loss: 0.4701 - val_accuracy: 0.8247\n",
            "Epoch 56/100\n",
            "20/20 [==============================] - 0s 4ms/step - loss: 0.4024 - accuracy: 0.8029 - val_loss: 0.4729 - val_accuracy: 0.8182\n",
            "Epoch 57/100\n",
            "20/20 [==============================] - 0s 4ms/step - loss: 0.4003 - accuracy: 0.8160 - val_loss: 0.4713 - val_accuracy: 0.8117\n",
            "Epoch 58/100\n",
            "20/20 [==============================] - 0s 4ms/step - loss: 0.4011 - accuracy: 0.8192 - val_loss: 0.4690 - val_accuracy: 0.8052\n",
            "Epoch 59/100\n",
            "20/20 [==============================] - 0s 4ms/step - loss: 0.3984 - accuracy: 0.8241 - val_loss: 0.4678 - val_accuracy: 0.8247\n",
            "Epoch 60/100\n",
            "20/20 [==============================] - 0s 4ms/step - loss: 0.3988 - accuracy: 0.8225 - val_loss: 0.4686 - val_accuracy: 0.8247\n",
            "Epoch 61/100\n",
            "20/20 [==============================] - 0s 3ms/step - loss: 0.3978 - accuracy: 0.8192 - val_loss: 0.4701 - val_accuracy: 0.8247\n",
            "Epoch 62/100\n",
            "20/20 [==============================] - 0s 3ms/step - loss: 0.3984 - accuracy: 0.8127 - val_loss: 0.4733 - val_accuracy: 0.8182\n",
            "Epoch 63/100\n",
            "20/20 [==============================] - 0s 4ms/step - loss: 0.3968 - accuracy: 0.8208 - val_loss: 0.4715 - val_accuracy: 0.8117\n",
            "Epoch 64/100\n",
            "20/20 [==============================] - 0s 5ms/step - loss: 0.3967 - accuracy: 0.8241 - val_loss: 0.4671 - val_accuracy: 0.8182\n",
            "Epoch 65/100\n",
            "20/20 [==============================] - 0s 4ms/step - loss: 0.3961 - accuracy: 0.8241 - val_loss: 0.4646 - val_accuracy: 0.8182\n",
            "Epoch 66/100\n",
            "20/20 [==============================] - 0s 4ms/step - loss: 0.3951 - accuracy: 0.8225 - val_loss: 0.4634 - val_accuracy: 0.8247\n",
            "Epoch 67/100\n",
            "20/20 [==============================] - 0s 4ms/step - loss: 0.3946 - accuracy: 0.8208 - val_loss: 0.4672 - val_accuracy: 0.8117\n",
            "Epoch 68/100\n",
            "20/20 [==============================] - 0s 4ms/step - loss: 0.3943 - accuracy: 0.8208 - val_loss: 0.4691 - val_accuracy: 0.8182\n",
            "Epoch 69/100\n",
            "20/20 [==============================] - 0s 4ms/step - loss: 0.3930 - accuracy: 0.8257 - val_loss: 0.4681 - val_accuracy: 0.8117\n",
            "Epoch 70/100\n",
            "20/20 [==============================] - 0s 4ms/step - loss: 0.3932 - accuracy: 0.8257 - val_loss: 0.4682 - val_accuracy: 0.8117\n",
            "Epoch 71/100\n",
            "20/20 [==============================] - 0s 4ms/step - loss: 0.3920 - accuracy: 0.8290 - val_loss: 0.4715 - val_accuracy: 0.8052\n",
            "Epoch 72/100\n",
            "20/20 [==============================] - 0s 4ms/step - loss: 0.3921 - accuracy: 0.8322 - val_loss: 0.4702 - val_accuracy: 0.8117\n",
            "Epoch 73/100\n",
            "20/20 [==============================] - 0s 4ms/step - loss: 0.3922 - accuracy: 0.8355 - val_loss: 0.4725 - val_accuracy: 0.8117\n",
            "Epoch 74/100\n",
            "20/20 [==============================] - 0s 4ms/step - loss: 0.3900 - accuracy: 0.8274 - val_loss: 0.4702 - val_accuracy: 0.8117\n",
            "Epoch 75/100\n",
            "20/20 [==============================] - 0s 4ms/step - loss: 0.3897 - accuracy: 0.8257 - val_loss: 0.4712 - val_accuracy: 0.8117\n",
            "Epoch 76/100\n",
            "20/20 [==============================] - 0s 5ms/step - loss: 0.3886 - accuracy: 0.8290 - val_loss: 0.4712 - val_accuracy: 0.8117\n",
            "Epoch 77/100\n",
            "20/20 [==============================] - 0s 4ms/step - loss: 0.3893 - accuracy: 0.8274 - val_loss: 0.4734 - val_accuracy: 0.8117\n",
            "Epoch 78/100\n",
            "20/20 [==============================] - 0s 4ms/step - loss: 0.3882 - accuracy: 0.8241 - val_loss: 0.4728 - val_accuracy: 0.8117\n",
            "Epoch 79/100\n",
            "20/20 [==============================] - 0s 4ms/step - loss: 0.3868 - accuracy: 0.8322 - val_loss: 0.4735 - val_accuracy: 0.8117\n",
            "Epoch 80/100\n",
            "20/20 [==============================] - 0s 4ms/step - loss: 0.3868 - accuracy: 0.8339 - val_loss: 0.4714 - val_accuracy: 0.8117\n",
            "Epoch 81/100\n",
            "20/20 [==============================] - 0s 4ms/step - loss: 0.3859 - accuracy: 0.8290 - val_loss: 0.4728 - val_accuracy: 0.8117\n",
            "Epoch 82/100\n",
            "20/20 [==============================] - 0s 5ms/step - loss: 0.3871 - accuracy: 0.8306 - val_loss: 0.4699 - val_accuracy: 0.8117\n",
            "Epoch 83/100\n",
            "20/20 [==============================] - 0s 4ms/step - loss: 0.3855 - accuracy: 0.8257 - val_loss: 0.4735 - val_accuracy: 0.8117\n",
            "Epoch 84/100\n",
            "20/20 [==============================] - 0s 4ms/step - loss: 0.3856 - accuracy: 0.8274 - val_loss: 0.4736 - val_accuracy: 0.8117\n",
            "Epoch 85/100\n",
            "20/20 [==============================] - 0s 4ms/step - loss: 0.3846 - accuracy: 0.8371 - val_loss: 0.4756 - val_accuracy: 0.8117\n",
            "Epoch 86/100\n",
            "20/20 [==============================] - 0s 4ms/step - loss: 0.3834 - accuracy: 0.8306 - val_loss: 0.4741 - val_accuracy: 0.8117\n",
            "Epoch 87/100\n",
            "20/20 [==============================] - 0s 4ms/step - loss: 0.3839 - accuracy: 0.8322 - val_loss: 0.4765 - val_accuracy: 0.8117\n",
            "Epoch 88/100\n",
            "20/20 [==============================] - 0s 4ms/step - loss: 0.3821 - accuracy: 0.8322 - val_loss: 0.4750 - val_accuracy: 0.8117\n",
            "Epoch 89/100\n",
            "20/20 [==============================] - 0s 4ms/step - loss: 0.3820 - accuracy: 0.8355 - val_loss: 0.4742 - val_accuracy: 0.8117\n",
            "Epoch 90/100\n",
            "20/20 [==============================] - 0s 4ms/step - loss: 0.3816 - accuracy: 0.8339 - val_loss: 0.4776 - val_accuracy: 0.8052\n",
            "Epoch 91/100\n",
            "20/20 [==============================] - 0s 4ms/step - loss: 0.3798 - accuracy: 0.8339 - val_loss: 0.4772 - val_accuracy: 0.8117\n",
            "Epoch 92/100\n",
            "20/20 [==============================] - 0s 4ms/step - loss: 0.3801 - accuracy: 0.8355 - val_loss: 0.4757 - val_accuracy: 0.8117\n",
            "Epoch 93/100\n",
            "20/20 [==============================] - 0s 4ms/step - loss: 0.3793 - accuracy: 0.8339 - val_loss: 0.4770 - val_accuracy: 0.8052\n",
            "Epoch 94/100\n",
            "20/20 [==============================] - 0s 4ms/step - loss: 0.3797 - accuracy: 0.8339 - val_loss: 0.4775 - val_accuracy: 0.8117\n",
            "Epoch 95/100\n",
            "20/20 [==============================] - 0s 4ms/step - loss: 0.3777 - accuracy: 0.8355 - val_loss: 0.4751 - val_accuracy: 0.8117\n",
            "Epoch 96/100\n",
            "20/20 [==============================] - 0s 4ms/step - loss: 0.3792 - accuracy: 0.8257 - val_loss: 0.4776 - val_accuracy: 0.8117\n",
            "Epoch 97/100\n",
            "20/20 [==============================] - 0s 4ms/step - loss: 0.3763 - accuracy: 0.8355 - val_loss: 0.4796 - val_accuracy: 0.7987\n",
            "Epoch 98/100\n",
            "20/20 [==============================] - 0s 4ms/step - loss: 0.3770 - accuracy: 0.8371 - val_loss: 0.4769 - val_accuracy: 0.8117\n",
            "Epoch 99/100\n",
            "20/20 [==============================] - 0s 5ms/step - loss: 0.3754 - accuracy: 0.8371 - val_loss: 0.4796 - val_accuracy: 0.8117\n",
            "Epoch 100/100\n",
            "20/20 [==============================] - 0s 4ms/step - loss: 0.3753 - accuracy: 0.8371 - val_loss: 0.4837 - val_accuracy: 0.8117\n"
          ]
        },
        {
          "output_type": "execute_result",
          "data": {
            "text/plain": [
              "<keras.src.callbacks.History at 0x7d06296e1360>"
            ]
          },
          "metadata": {},
          "execution_count": 80
        }
      ]
    },
    {
      "cell_type": "markdown",
      "source": [
        "# how to select number of layers"
      ],
      "metadata": {
        "id": "qMWtY4cZQUfN"
      }
    },
    {
      "cell_type": "code",
      "source": [
        "def build_model(hp):\n",
        "\n",
        "  model=Sequential()\n",
        "\n",
        "  model.add(Dense(128,activation='relu',input_dim=8))\n",
        "\n",
        "  # running a loop from 1 to 10 this will make 10 different model with different number of layer\n",
        "  for i in range(hp.Int('num_layers',min_value=1,max_value=10)):\n",
        "\n",
        "    model.add(Dense(128,activation='relu'))\n",
        "    \"\"\" in every layer there will be 128 number of nodes . we have arrived on this from previous exercise where we got to know 128\n",
        "    neuron should be present in a layer\"\"\"\n",
        "\n",
        "  model.add(Dense(1,activation='sigmoid'))\n",
        "\n",
        "\n",
        "  model.compile(optimizer='adam',loss='binary_crossentropy',metrics=['accuracy'])\n",
        "\n",
        "  return model"
      ],
      "metadata": {
        "id": "nd4uMsJaPXga"
      },
      "execution_count": 86,
      "outputs": []
    },
    {
      "cell_type": "code",
      "source": [
        "tuner=kt.RandomSearch(build_model,\n",
        "                      objective='val_accuracy',\n",
        "                      max_trials=3,\n",
        "                      directory='mydir',\n",
        "                      project_name='num_layers')"
      ],
      "metadata": {
        "colab": {
          "base_uri": "https://localhost:8080/"
        },
        "id": "SViRB9jYSN8b",
        "outputId": "feab276d-dafc-4f7f-d0f2-5eacf43f9932"
      },
      "execution_count": 87,
      "outputs": [
        {
          "output_type": "stream",
          "name": "stdout",
          "text": [
            "Reloading Tuner from mydir/num_layers/tuner0.json\n"
          ]
        }
      ]
    },
    {
      "cell_type": "code",
      "source": [
        "tuner.search(X_train,y_train,epochs=5,validation_data=(X_test,y_test))"
      ],
      "metadata": {
        "colab": {
          "base_uri": "https://localhost:8080/"
        },
        "id": "jz89t8a5Skm6",
        "outputId": "933df4c8-ebf1-46a6-e9f9-39ea8c85df52"
      },
      "execution_count": 88,
      "outputs": [
        {
          "output_type": "stream",
          "name": "stdout",
          "text": [
            "Trial 3 Complete [00h 00m 03s]\n",
            "val_accuracy: 0.798701286315918\n",
            "\n",
            "Best val_accuracy So Far: 0.798701286315918\n",
            "Total elapsed time: 00h 01m 59s\n"
          ]
        }
      ]
    },
    {
      "cell_type": "code",
      "source": [
        "tuner.get_best_hyperparameters()[0].values"
      ],
      "metadata": {
        "colab": {
          "base_uri": "https://localhost:8080/"
        },
        "id": "fz8UOJTbTF0x",
        "outputId": "6d88e1e2-984e-4451-f693-5b8f25fd1eac"
      },
      "execution_count": 91,
      "outputs": [
        {
          "output_type": "execute_result",
          "data": {
            "text/plain": [
              "{'num_layers': 3}"
            ]
          },
          "metadata": {},
          "execution_count": 91
        }
      ]
    },
    {
      "cell_type": "code",
      "source": [
        "model=tuner.get_best_models(num_models=1)[0]\n",
        "\n",
        "model.fit(X_train,y_train,epochs=100,validation_data=(X_test,y_test))"
      ],
      "metadata": {
        "colab": {
          "base_uri": "https://localhost:8080/"
        },
        "id": "ov0fD_dhTmUn",
        "outputId": "4b8a7715-33ac-4b13-ac47-7d7826581039"
      },
      "execution_count": 94,
      "outputs": [
        {
          "output_type": "stream",
          "name": "stdout",
          "text": [
            "Epoch 1/100\n",
            "20/20 [==============================] - 2s 16ms/step - loss: 0.4336 - accuracy: 0.7964 - val_loss: 0.4735 - val_accuracy: 0.8117\n",
            "Epoch 2/100\n",
            "20/20 [==============================] - 0s 5ms/step - loss: 0.4243 - accuracy: 0.7948 - val_loss: 0.4762 - val_accuracy: 0.7922\n",
            "Epoch 3/100\n",
            "20/20 [==============================] - 0s 6ms/step - loss: 0.4258 - accuracy: 0.7980 - val_loss: 0.4978 - val_accuracy: 0.7857\n",
            "Epoch 4/100\n",
            "20/20 [==============================] - 0s 6ms/step - loss: 0.4167 - accuracy: 0.8062 - val_loss: 0.4745 - val_accuracy: 0.8247\n",
            "Epoch 5/100\n",
            "20/20 [==============================] - 0s 5ms/step - loss: 0.4008 - accuracy: 0.8046 - val_loss: 0.4794 - val_accuracy: 0.8117\n",
            "Epoch 6/100\n",
            "20/20 [==============================] - 0s 6ms/step - loss: 0.3842 - accuracy: 0.8274 - val_loss: 0.4779 - val_accuracy: 0.8182\n",
            "Epoch 7/100\n",
            "20/20 [==============================] - 0s 6ms/step - loss: 0.3701 - accuracy: 0.8274 - val_loss: 0.5053 - val_accuracy: 0.7922\n",
            "Epoch 8/100\n",
            "20/20 [==============================] - 0s 10ms/step - loss: 0.3727 - accuracy: 0.8355 - val_loss: 0.4821 - val_accuracy: 0.8117\n",
            "Epoch 9/100\n",
            "20/20 [==============================] - 0s 7ms/step - loss: 0.3644 - accuracy: 0.8404 - val_loss: 0.5167 - val_accuracy: 0.8182\n",
            "Epoch 10/100\n",
            "20/20 [==============================] - 0s 7ms/step - loss: 0.3531 - accuracy: 0.8616 - val_loss: 0.4916 - val_accuracy: 0.8052\n",
            "Epoch 11/100\n",
            "20/20 [==============================] - 0s 7ms/step - loss: 0.3293 - accuracy: 0.8518 - val_loss: 0.5386 - val_accuracy: 0.7987\n",
            "Epoch 12/100\n",
            "20/20 [==============================] - 0s 7ms/step - loss: 0.3199 - accuracy: 0.8583 - val_loss: 0.5513 - val_accuracy: 0.7857\n",
            "Epoch 13/100\n",
            "20/20 [==============================] - 0s 8ms/step - loss: 0.3009 - accuracy: 0.8779 - val_loss: 0.5371 - val_accuracy: 0.8052\n",
            "Epoch 14/100\n",
            "20/20 [==============================] - 0s 7ms/step - loss: 0.2829 - accuracy: 0.8811 - val_loss: 0.5929 - val_accuracy: 0.7727\n",
            "Epoch 15/100\n",
            "20/20 [==============================] - 0s 7ms/step - loss: 0.2793 - accuracy: 0.9023 - val_loss: 0.6019 - val_accuracy: 0.7792\n",
            "Epoch 16/100\n",
            "20/20 [==============================] - 0s 8ms/step - loss: 0.2642 - accuracy: 0.8909 - val_loss: 0.5646 - val_accuracy: 0.8117\n",
            "Epoch 17/100\n",
            "20/20 [==============================] - 0s 7ms/step - loss: 0.2457 - accuracy: 0.9169 - val_loss: 0.6351 - val_accuracy: 0.7857\n",
            "Epoch 18/100\n",
            "20/20 [==============================] - 0s 7ms/step - loss: 0.2573 - accuracy: 0.8876 - val_loss: 0.6725 - val_accuracy: 0.7662\n",
            "Epoch 19/100\n",
            "20/20 [==============================] - 0s 8ms/step - loss: 0.2174 - accuracy: 0.9104 - val_loss: 0.6522 - val_accuracy: 0.7792\n",
            "Epoch 20/100\n",
            "20/20 [==============================] - 0s 8ms/step - loss: 0.2006 - accuracy: 0.9202 - val_loss: 0.7130 - val_accuracy: 0.7727\n",
            "Epoch 21/100\n",
            "20/20 [==============================] - 0s 8ms/step - loss: 0.1828 - accuracy: 0.9267 - val_loss: 0.8038 - val_accuracy: 0.7338\n",
            "Epoch 22/100\n",
            "20/20 [==============================] - 0s 8ms/step - loss: 0.1836 - accuracy: 0.9283 - val_loss: 0.7916 - val_accuracy: 0.7857\n",
            "Epoch 23/100\n",
            "20/20 [==============================] - 0s 8ms/step - loss: 0.1700 - accuracy: 0.9414 - val_loss: 0.7976 - val_accuracy: 0.7792\n",
            "Epoch 24/100\n",
            "20/20 [==============================] - 0s 8ms/step - loss: 0.1374 - accuracy: 0.9479 - val_loss: 0.8648 - val_accuracy: 0.7597\n",
            "Epoch 25/100\n",
            "20/20 [==============================] - 0s 5ms/step - loss: 0.1169 - accuracy: 0.9625 - val_loss: 0.9305 - val_accuracy: 0.7532\n",
            "Epoch 26/100\n",
            "20/20 [==============================] - 0s 5ms/step - loss: 0.1272 - accuracy: 0.9544 - val_loss: 0.9444 - val_accuracy: 0.7403\n",
            "Epoch 27/100\n",
            "20/20 [==============================] - 0s 5ms/step - loss: 0.1267 - accuracy: 0.9528 - val_loss: 0.9553 - val_accuracy: 0.7403\n",
            "Epoch 28/100\n",
            "20/20 [==============================] - 0s 5ms/step - loss: 0.0986 - accuracy: 0.9658 - val_loss: 0.9519 - val_accuracy: 0.7338\n",
            "Epoch 29/100\n",
            "20/20 [==============================] - 0s 4ms/step - loss: 0.1000 - accuracy: 0.9658 - val_loss: 1.1519 - val_accuracy: 0.6883\n",
            "Epoch 30/100\n",
            "20/20 [==============================] - 0s 5ms/step - loss: 0.1184 - accuracy: 0.9593 - val_loss: 1.2209 - val_accuracy: 0.7013\n",
            "Epoch 31/100\n",
            "20/20 [==============================] - 0s 4ms/step - loss: 0.1923 - accuracy: 0.9316 - val_loss: 0.9411 - val_accuracy: 0.7662\n",
            "Epoch 32/100\n",
            "20/20 [==============================] - 0s 5ms/step - loss: 0.1471 - accuracy: 0.9463 - val_loss: 1.0964 - val_accuracy: 0.7338\n",
            "Epoch 33/100\n",
            "20/20 [==============================] - 0s 6ms/step - loss: 0.0858 - accuracy: 0.9739 - val_loss: 1.0734 - val_accuracy: 0.7532\n",
            "Epoch 34/100\n",
            "20/20 [==============================] - 0s 5ms/step - loss: 0.0650 - accuracy: 0.9837 - val_loss: 1.2087 - val_accuracy: 0.7338\n",
            "Epoch 35/100\n",
            "20/20 [==============================] - 0s 5ms/step - loss: 0.0505 - accuracy: 0.9870 - val_loss: 1.2376 - val_accuracy: 0.7208\n",
            "Epoch 36/100\n",
            "20/20 [==============================] - 0s 5ms/step - loss: 0.0422 - accuracy: 0.9853 - val_loss: 1.3958 - val_accuracy: 0.7403\n",
            "Epoch 37/100\n",
            "20/20 [==============================] - 0s 6ms/step - loss: 0.0595 - accuracy: 0.9805 - val_loss: 1.2848 - val_accuracy: 0.7468\n",
            "Epoch 38/100\n",
            "20/20 [==============================] - 0s 6ms/step - loss: 0.0745 - accuracy: 0.9756 - val_loss: 1.3125 - val_accuracy: 0.7208\n",
            "Epoch 39/100\n",
            "20/20 [==============================] - 0s 6ms/step - loss: 0.1194 - accuracy: 0.9642 - val_loss: 1.3163 - val_accuracy: 0.7403\n",
            "Epoch 40/100\n",
            "20/20 [==============================] - 0s 6ms/step - loss: 0.1207 - accuracy: 0.9479 - val_loss: 1.1386 - val_accuracy: 0.7338\n",
            "Epoch 41/100\n",
            "20/20 [==============================] - 0s 6ms/step - loss: 0.0936 - accuracy: 0.9658 - val_loss: 1.3529 - val_accuracy: 0.7532\n",
            "Epoch 42/100\n",
            "20/20 [==============================] - 0s 5ms/step - loss: 0.0867 - accuracy: 0.9723 - val_loss: 1.3054 - val_accuracy: 0.7208\n",
            "Epoch 43/100\n",
            "20/20 [==============================] - 0s 5ms/step - loss: 0.0493 - accuracy: 0.9821 - val_loss: 1.3755 - val_accuracy: 0.7662\n",
            "Epoch 44/100\n",
            "20/20 [==============================] - 0s 5ms/step - loss: 0.0388 - accuracy: 0.9902 - val_loss: 1.3575 - val_accuracy: 0.7143\n",
            "Epoch 45/100\n",
            "20/20 [==============================] - 0s 6ms/step - loss: 0.0507 - accuracy: 0.9821 - val_loss: 1.5576 - val_accuracy: 0.7597\n",
            "Epoch 46/100\n",
            "20/20 [==============================] - 0s 5ms/step - loss: 0.1095 - accuracy: 0.9707 - val_loss: 1.5655 - val_accuracy: 0.7143\n",
            "Epoch 47/100\n",
            "20/20 [==============================] - 0s 6ms/step - loss: 0.0431 - accuracy: 0.9837 - val_loss: 1.5063 - val_accuracy: 0.7468\n",
            "Epoch 48/100\n",
            "20/20 [==============================] - 0s 5ms/step - loss: 0.0333 - accuracy: 0.9902 - val_loss: 1.5720 - val_accuracy: 0.7532\n",
            "Epoch 49/100\n",
            "20/20 [==============================] - 0s 5ms/step - loss: 0.0255 - accuracy: 0.9951 - val_loss: 1.6180 - val_accuracy: 0.7468\n",
            "Epoch 50/100\n",
            "20/20 [==============================] - 0s 5ms/step - loss: 0.0184 - accuracy: 0.9967 - val_loss: 1.7062 - val_accuracy: 0.7013\n",
            "Epoch 51/100\n",
            "20/20 [==============================] - 0s 5ms/step - loss: 0.0227 - accuracy: 0.9967 - val_loss: 1.7153 - val_accuracy: 0.7403\n",
            "Epoch 52/100\n",
            "20/20 [==============================] - 0s 5ms/step - loss: 0.1377 - accuracy: 0.9707 - val_loss: 1.9228 - val_accuracy: 0.7208\n",
            "Epoch 53/100\n",
            "20/20 [==============================] - 0s 5ms/step - loss: 0.1136 - accuracy: 0.9593 - val_loss: 1.4132 - val_accuracy: 0.7273\n",
            "Epoch 54/100\n",
            "20/20 [==============================] - 0s 6ms/step - loss: 0.0666 - accuracy: 0.9805 - val_loss: 1.4837 - val_accuracy: 0.7338\n",
            "Epoch 55/100\n",
            "20/20 [==============================] - 0s 5ms/step - loss: 0.0411 - accuracy: 0.9837 - val_loss: 1.5219 - val_accuracy: 0.7273\n",
            "Epoch 56/100\n",
            "20/20 [==============================] - 0s 5ms/step - loss: 0.0169 - accuracy: 1.0000 - val_loss: 1.5504 - val_accuracy: 0.7532\n",
            "Epoch 57/100\n",
            "20/20 [==============================] - 0s 6ms/step - loss: 0.0141 - accuracy: 0.9984 - val_loss: 1.6370 - val_accuracy: 0.7273\n",
            "Epoch 58/100\n",
            "20/20 [==============================] - 0s 5ms/step - loss: 0.0109 - accuracy: 0.9984 - val_loss: 1.6762 - val_accuracy: 0.7273\n",
            "Epoch 59/100\n",
            "20/20 [==============================] - 0s 5ms/step - loss: 0.0089 - accuracy: 0.9984 - val_loss: 1.7371 - val_accuracy: 0.7273\n",
            "Epoch 60/100\n",
            "20/20 [==============================] - 0s 5ms/step - loss: 0.0183 - accuracy: 0.9951 - val_loss: 1.7816 - val_accuracy: 0.7338\n",
            "Epoch 61/100\n",
            "20/20 [==============================] - 0s 5ms/step - loss: 0.0086 - accuracy: 0.9984 - val_loss: 1.8011 - val_accuracy: 0.7273\n",
            "Epoch 62/100\n",
            "20/20 [==============================] - 0s 5ms/step - loss: 0.0056 - accuracy: 1.0000 - val_loss: 1.8532 - val_accuracy: 0.7208\n",
            "Epoch 63/100\n",
            "20/20 [==============================] - 0s 6ms/step - loss: 0.0046 - accuracy: 1.0000 - val_loss: 1.8831 - val_accuracy: 0.7338\n",
            "Epoch 64/100\n",
            "20/20 [==============================] - 0s 4ms/step - loss: 0.0039 - accuracy: 1.0000 - val_loss: 1.9434 - val_accuracy: 0.7143\n",
            "Epoch 65/100\n",
            "20/20 [==============================] - 0s 5ms/step - loss: 0.0032 - accuracy: 1.0000 - val_loss: 1.9696 - val_accuracy: 0.7143\n",
            "Epoch 66/100\n",
            "20/20 [==============================] - 0s 5ms/step - loss: 0.0062 - accuracy: 0.9984 - val_loss: 1.9743 - val_accuracy: 0.7208\n",
            "Epoch 67/100\n",
            "20/20 [==============================] - 0s 5ms/step - loss: 0.0198 - accuracy: 0.9951 - val_loss: 2.0364 - val_accuracy: 0.7208\n",
            "Epoch 68/100\n",
            "20/20 [==============================] - 0s 5ms/step - loss: 0.0092 - accuracy: 0.9967 - val_loss: 2.0195 - val_accuracy: 0.7338\n",
            "Epoch 69/100\n",
            "20/20 [==============================] - 0s 5ms/step - loss: 0.0112 - accuracy: 0.9935 - val_loss: 2.0572 - val_accuracy: 0.7208\n",
            "Epoch 70/100\n",
            "20/20 [==============================] - 0s 5ms/step - loss: 0.0056 - accuracy: 0.9984 - val_loss: 2.0800 - val_accuracy: 0.7143\n",
            "Epoch 71/100\n",
            "20/20 [==============================] - 0s 5ms/step - loss: 0.0045 - accuracy: 0.9984 - val_loss: 2.1186 - val_accuracy: 0.7078\n",
            "Epoch 72/100\n",
            "20/20 [==============================] - 0s 6ms/step - loss: 0.0026 - accuracy: 1.0000 - val_loss: 2.1709 - val_accuracy: 0.7013\n",
            "Epoch 73/100\n",
            "20/20 [==============================] - 0s 5ms/step - loss: 0.0029 - accuracy: 0.9984 - val_loss: 2.1556 - val_accuracy: 0.7143\n",
            "Epoch 74/100\n",
            "20/20 [==============================] - 0s 5ms/step - loss: 0.0051 - accuracy: 0.9984 - val_loss: 2.2084 - val_accuracy: 0.7078\n",
            "Epoch 75/100\n",
            "20/20 [==============================] - 0s 5ms/step - loss: 0.0054 - accuracy: 0.9984 - val_loss: 2.2268 - val_accuracy: 0.7143\n",
            "Epoch 76/100\n",
            "20/20 [==============================] - 0s 5ms/step - loss: 0.0053 - accuracy: 0.9984 - val_loss: 2.2518 - val_accuracy: 0.7078\n",
            "Epoch 77/100\n",
            "20/20 [==============================] - 0s 5ms/step - loss: 0.0047 - accuracy: 0.9984 - val_loss: 2.2511 - val_accuracy: 0.7208\n",
            "Epoch 78/100\n",
            "20/20 [==============================] - 0s 5ms/step - loss: 0.0059 - accuracy: 0.9967 - val_loss: 2.2986 - val_accuracy: 0.7078\n",
            "Epoch 79/100\n",
            "20/20 [==============================] - 0s 5ms/step - loss: 0.0105 - accuracy: 0.9984 - val_loss: 2.2002 - val_accuracy: 0.7143\n",
            "Epoch 80/100\n",
            "20/20 [==============================] - 0s 5ms/step - loss: 0.0160 - accuracy: 0.9984 - val_loss: 2.2316 - val_accuracy: 0.7013\n",
            "Epoch 81/100\n",
            "20/20 [==============================] - 0s 5ms/step - loss: 0.0171 - accuracy: 0.9951 - val_loss: 2.1879 - val_accuracy: 0.6883\n",
            "Epoch 82/100\n",
            "20/20 [==============================] - 0s 5ms/step - loss: 0.0119 - accuracy: 0.9967 - val_loss: 2.1842 - val_accuracy: 0.7143\n",
            "Epoch 83/100\n",
            "20/20 [==============================] - 0s 4ms/step - loss: 0.0035 - accuracy: 1.0000 - val_loss: 2.1842 - val_accuracy: 0.7208\n",
            "Epoch 84/100\n",
            "20/20 [==============================] - 0s 4ms/step - loss: 0.0023 - accuracy: 1.0000 - val_loss: 2.2233 - val_accuracy: 0.7208\n",
            "Epoch 85/100\n",
            "20/20 [==============================] - 0s 5ms/step - loss: 0.0013 - accuracy: 1.0000 - val_loss: 2.2595 - val_accuracy: 0.7208\n",
            "Epoch 86/100\n",
            "20/20 [==============================] - 0s 4ms/step - loss: 0.0011 - accuracy: 1.0000 - val_loss: 2.2765 - val_accuracy: 0.7208\n",
            "Epoch 87/100\n",
            "20/20 [==============================] - 0s 5ms/step - loss: 9.9698e-04 - accuracy: 1.0000 - val_loss: 2.2933 - val_accuracy: 0.7208\n",
            "Epoch 88/100\n",
            "20/20 [==============================] - 0s 4ms/step - loss: 9.3919e-04 - accuracy: 1.0000 - val_loss: 2.3144 - val_accuracy: 0.7208\n",
            "Epoch 89/100\n",
            "20/20 [==============================] - 0s 5ms/step - loss: 8.4544e-04 - accuracy: 1.0000 - val_loss: 2.3322 - val_accuracy: 0.7208\n",
            "Epoch 90/100\n",
            "20/20 [==============================] - 0s 4ms/step - loss: 8.1820e-04 - accuracy: 1.0000 - val_loss: 2.3504 - val_accuracy: 0.7208\n",
            "Epoch 91/100\n",
            "20/20 [==============================] - 0s 5ms/step - loss: 7.5936e-04 - accuracy: 1.0000 - val_loss: 2.3664 - val_accuracy: 0.7208\n",
            "Epoch 92/100\n",
            "20/20 [==============================] - 0s 6ms/step - loss: 7.1035e-04 - accuracy: 1.0000 - val_loss: 2.3821 - val_accuracy: 0.7208\n",
            "Epoch 93/100\n",
            "20/20 [==============================] - 0s 5ms/step - loss: 6.7726e-04 - accuracy: 1.0000 - val_loss: 2.3968 - val_accuracy: 0.7208\n",
            "Epoch 94/100\n",
            "20/20 [==============================] - 0s 5ms/step - loss: 6.2317e-04 - accuracy: 1.0000 - val_loss: 2.4145 - val_accuracy: 0.7208\n",
            "Epoch 95/100\n",
            "20/20 [==============================] - 0s 5ms/step - loss: 5.9570e-04 - accuracy: 1.0000 - val_loss: 2.4282 - val_accuracy: 0.7208\n",
            "Epoch 96/100\n",
            "20/20 [==============================] - 0s 5ms/step - loss: 5.6513e-04 - accuracy: 1.0000 - val_loss: 2.4406 - val_accuracy: 0.7208\n",
            "Epoch 97/100\n",
            "20/20 [==============================] - 0s 4ms/step - loss: 5.3821e-04 - accuracy: 1.0000 - val_loss: 2.4517 - val_accuracy: 0.7208\n",
            "Epoch 98/100\n",
            "20/20 [==============================] - 0s 4ms/step - loss: 5.2449e-04 - accuracy: 1.0000 - val_loss: 2.4676 - val_accuracy: 0.7208\n",
            "Epoch 99/100\n",
            "20/20 [==============================] - 0s 5ms/step - loss: 4.9971e-04 - accuracy: 1.0000 - val_loss: 2.4791 - val_accuracy: 0.7208\n",
            "Epoch 100/100\n",
            "20/20 [==============================] - 0s 6ms/step - loss: 4.7783e-04 - accuracy: 1.0000 - val_loss: 2.4890 - val_accuracy: 0.7208\n"
          ]
        },
        {
          "output_type": "execute_result",
          "data": {
            "text/plain": [
              "<keras.src.callbacks.History at 0x7d0629b02050>"
            ]
          },
          "metadata": {},
          "execution_count": 94
        }
      ]
    },
    {
      "cell_type": "markdown",
      "source": [
        "# now we are making a model with different method which we have used previously and combining them together"
      ],
      "metadata": {
        "id": "k_ud9AM6Uxfe"
      }
    },
    {
      "cell_type": "code",
      "source": [
        "from tensorflow.keras.models import Sequential\n",
        "from tensorflow.keras.layers import Dense, Dropout\n",
        "from kerastuner import HyperParameters\n",
        "\n",
        "def build_space(hp):\n",
        "    model = Sequential()\n",
        "    counter = 0\n",
        "\n",
        "    for i in range(hp.Int('num_layers', min_value=8, max_value=10)):\n",
        "        if counter == 0:\n",
        "            model.add(\n",
        "                Dense(\n",
        "                    units=hp.Int('units' + str(i), min_value=8, max_value=128, step=8),\n",
        "                    activation=hp.Choice('activation' + str(i), values=['relu', 'tanh', 'sigmoid']),\n",
        "                    input_dim=8\n",
        "                )\n",
        "            )\n",
        "            model.add(Dropout(hp.Choice('dropout' + str(i), values=[0.1, 0.2, 0.3, 0.4, 0.5, 0.6, 0.7, 0.8, 0.9])))\n",
        "        else:\n",
        "            model.add(\n",
        "                Dense(\n",
        "                    units=hp.Int('units' + str(i), min_value=8, max_value=128, step=8),\n",
        "                    activation=hp.Choice('activation' + str(i), values=['relu', 'tanh', 'sigmoid'])\n",
        "                )\n",
        "            )\n",
        "            model.add(Dropout(hp.Choice('dropout' + str(i), values=[0.1, 0.2, 0.3, 0.4, 0.5, 0.6, 0.7, 0.8, 0.9])))\n",
        "        counter += 1\n",
        "\n",
        "    model.add(Dense(1, activation='sigmoid'))\n",
        "\n",
        "    model.compile(optimizer=hp.Choice('optimizer', values=['rmsprop', 'adam', 'sgd', 'adadelta', 'nadam']),\n",
        "                  loss='binary_crossentropy',\n",
        "                  metrics=['accuracy'])\n",
        "\n",
        "    return model\n"
      ],
      "metadata": {
        "id": "6CSdqv7IUYy-"
      },
      "execution_count": 105,
      "outputs": []
    },
    {
      "cell_type": "code",
      "source": [
        "tuner1=kt.RandomSearch(build_model,\n",
        "                      objective='val_accuracy',\n",
        "                      max_trials=3,\n",
        "                      directory='mydir',\n",
        "                      project_name='final2')"
      ],
      "metadata": {
        "id": "GDhsiSe7aDfx"
      },
      "execution_count": 108,
      "outputs": []
    },
    {
      "cell_type": "code",
      "source": [
        "tuner1.search(X_train,y_train,epochs=5,validation_data=(X_test,y_test))"
      ],
      "metadata": {
        "colab": {
          "base_uri": "https://localhost:8080/"
        },
        "id": "X6taPaxUacgK",
        "outputId": "dde723d5-5b62-4c4d-88cd-8715b4184fce"
      },
      "execution_count": 109,
      "outputs": [
        {
          "output_type": "stream",
          "name": "stdout",
          "text": [
            "Trial 3 Complete [00h 00m 03s]\n",
            "val_accuracy: 0.798701286315918\n",
            "\n",
            "Best val_accuracy So Far: 0.8181818127632141\n",
            "Total elapsed time: 00h 00m 09s\n"
          ]
        }
      ]
    },
    {
      "cell_type": "code",
      "source": [
        "tuner1.get_best_hyperparameters()[0].values"
      ],
      "metadata": {
        "colab": {
          "base_uri": "https://localhost:8080/"
        },
        "id": "g-0ynxGkalDb",
        "outputId": "00837a47-066a-495e-de77-37ce5d26be1b"
      },
      "execution_count": 110,
      "outputs": [
        {
          "output_type": "execute_result",
          "data": {
            "text/plain": [
              "{'num_layers': 1}"
            ]
          },
          "metadata": {},
          "execution_count": 110
        }
      ]
    },
    {
      "cell_type": "code",
      "source": [
        "model=tuner1.get_best_models(num_models=1)[0]\n"
      ],
      "metadata": {
        "id": "wkz2iQyRau0-"
      },
      "execution_count": 111,
      "outputs": []
    },
    {
      "cell_type": "code",
      "source": [
        "\n",
        "model.fit(X_train,y_train,epochs=200,validation_data=(X_test,y_test))"
      ],
      "metadata": {
        "id": "dl6vUhzacqnS"
      },
      "execution_count": null,
      "outputs": []
    },
    {
      "cell_type": "code",
      "source": [],
      "metadata": {
        "id": "nP1mXA1Ic24z"
      },
      "execution_count": null,
      "outputs": []
    }
  ]
}